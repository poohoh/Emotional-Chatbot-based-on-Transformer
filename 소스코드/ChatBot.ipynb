{
  "nbformat": 4,
  "nbformat_minor": 0,
  "metadata": {
    "colab": {
      "provenance": [],
      "gpuType": "T4"
    },
    "kernelspec": {
      "name": "python3",
      "display_name": "Python 3"
    },
    "language_info": {
      "name": "python"
    },
    "accelerator": "GPU"
  },
  "cells": [
    {
      "cell_type": "code",
      "execution_count": 24,
      "metadata": {
        "id": "SG_XN-rPlzNL"
      },
      "outputs": [],
      "source": [
        "import numpy as np\n",
        "import matplotlib.pyplot as plt\n",
        "import tensorflow as tf\n",
        "import pandas as pd\n",
        "import urllib.request\n",
        "import tensorflow_datasets as tfds\n",
        "import time\n",
        "import re"
      ]
    },
    {
      "cell_type": "code",
      "source": [
        "tf.__version__"
      ],
      "metadata": {
        "colab": {
          "base_uri": "https://localhost:8080/",
          "height": 35
        },
        "id": "PJYp7Bgtl5ty",
        "outputId": "ea486afe-607f-4250-fe21-43ed2dc652b4"
      },
      "execution_count": 25,
      "outputs": [
        {
          "output_type": "execute_result",
          "data": {
            "text/plain": [
              "'2.12.0'"
            ],
            "application/vnd.google.colaboratory.intrinsic+json": {
              "type": "string"
            }
          },
          "metadata": {},
          "execution_count": 25
        }
      ]
    },
    {
      "cell_type": "markdown",
      "source": [
        "# Positional Encoding"
      ],
      "metadata": {
        "id": "pdsqPD9xo6Fz"
      }
    },
    {
      "cell_type": "code",
      "source": [
        "class PositionalEncoding(tf.keras.layers.Layer):\n",
        "    # tf.keras.layers.Layer를 상속\n",
        "    def __init__(self, position, d_model):\n",
        "        super(PositionalEncoding, self).__init__()\n",
        "        self.pos_encoding = self.positional_encoding(position, d_model)\n",
        "\n",
        "    # 각도 계산\n",
        "    def get_angles(self, pos, i, d_model):\n",
        "        angle_rates = 1 / np.power(10000, (2 * (i//2)) / np.float32(d_model))  # 1 / 10000&(2i/d_model)\n",
        "        return pos * angle_rates\n",
        "\n",
        "    # positional encoding 계산\n",
        "    def positional_encoding(self, position, d_model):\n",
        "        angle_rads = self.get_angles(np.arange(position)[:, np.newaxis],\n",
        "                            np.arange(d_model)[np.newaxis, :],\n",
        "                            d_model)\n",
        "\n",
        "        # 짝수 인덱스에는 sin 함수 적용\n",
        "        angle_rads[:, 0::2] = np.sin(angle_rads[:, 0::2])\n",
        "\n",
        "        # 홀수 인덱스에는 cos 함수 적용\n",
        "        angle_rads[:, 1::2] = np.cos(angle_rads[:, 1::2])\n",
        "\n",
        "        # 위에서 계산한 결과를 저장\n",
        "        pos_encoding = angle_rads[np.newaxis, ...]\n",
        "\n",
        "        return tf.cast(pos_encoding, dtype=tf.float32)\n",
        "\n",
        "    # 객체가 호출될 때 실행되는 함수\n",
        "    def call(self, inputs):\n",
        "        return inputs + self.pos_encoding[:, :tf.shape(inputs)[1], :]"
      ],
      "metadata": {
        "id": "YlVllq7bl6i7"
      },
      "execution_count": 26,
      "outputs": []
    },
    {
      "cell_type": "markdown",
      "source": [
        "포지셔널 인코딩의 입력: 입력 시퀀스의 각 단어의 위치, 임베딩 벡터의 차원 수\n",
        "\n",
        "포지셔널 인코딩의 출력: 해당 위치의 단어에 대한 고차원 벡터. 이 벡터는 입력 시퀀스의 각 단어의 임베딩 벡터에 추가되어 단어의 위치를 고려할 수 있게 한다.\n",
        "\n",
        "사인과 코사인 함수를 사용하는 이유: 특정 위치에 대한 정보를 담기 위함. 두 함수는 주기적으로 연속적인 값을 갖기 때문에, 위치 정보를 연속적으로 주기적인 형태로 표현할 수 있다. Transformer 모델은 RNN이나 LSTM과 달리 모든 입력을 동시에 처리하므로 기본적으로 입력 데이터의 순서 정보를 인식하지 못하기 때문에, 단어의 위치 정보가 입력 데이터에 포함되어야 한다.\n",
        "\n",
        "홀수와 짝수 인덱스에 사인과 코사인을 번갈아 가며 사용하는 이유: 포지셔널 인코딩의 벡터 공간을 더 풍부하게 만들기 위함이다. 사인 함수와 코사인 함수는 입력값이 같은 주기로 변할 때 같은 값을 출력하기 때문에, 같은 간격으로 떨어져 있는 단어들에 대한 포지셔널 인코딩 값이 같아지는 경우가 있다. 이러한 상황을 방지하기 위해 사인 함수와 코사인 함수를 번갈아가며 사용함으로써 각 위치에 대한 인코딩 값의 다양성을 증가시키고, 모델이 단어의 절대적인 위치 정보를 더 잘 인식할 수 있게 한다."
      ],
      "metadata": {
        "id": "7ZZR7btxpoPR"
      }
    },
    {
      "cell_type": "code",
      "source": [
        "layer = PositionalEncoding(50, 512)\n",
        "x = tf.random.uniform((1, 50, 512))  # 예시 입력\n",
        "out = layer(x)"
      ],
      "metadata": {
        "id": "f7KCedEwl6yj"
      },
      "execution_count": 27,
      "outputs": []
    },
    {
      "cell_type": "code",
      "source": [
        "print(type(layer))\n",
        "print(type(x))\n",
        "print(type(out))"
      ],
      "metadata": {
        "colab": {
          "base_uri": "https://localhost:8080/"
        },
        "id": "1_OdLbHTl63e",
        "outputId": "2cd620f8-0af8-419d-8287-16b9cbc32b0b"
      },
      "execution_count": 28,
      "outputs": [
        {
          "output_type": "stream",
          "name": "stdout",
          "text": [
            "<class '__main__.PositionalEncoding'>\n",
            "<class 'tensorflow.python.framework.ops.EagerTensor'>\n",
            "<class 'tensorflow.python.framework.ops.EagerTensor'>\n"
          ]
        }
      ]
    },
    {
      "cell_type": "markdown",
      "source": [
        "Positional Encoding 테스트"
      ],
      "metadata": {
        "id": "GJPrw8Yj-YLB"
      }
    },
    {
      "cell_type": "code",
      "source": [
        "pos_encoding = PositionalEncoding(50, 512)  # 50개의 단어와 512 차원의 임베딩\n",
        "pos_encoding = pos_encoding.pos_encoding.numpy()  # numpy 배열로 변환\n",
        "\n",
        "# 결과 시각화\n",
        "plt.pcolormesh(pos_encoding[0], cmap='RdBu')\n",
        "plt.xlabel('Depth')  # x축은 임베딩 벡터의 차원\n",
        "plt.xlim((0, 512))\n",
        "plt.ylabel('Position')  # y축은 단어의 위치\n",
        "plt.colorbar()\n",
        "plt.show()"
      ],
      "metadata": {
        "colab": {
          "base_uri": "https://localhost:8080/",
          "height": 455
        },
        "id": "FB5CT4Ws-Hu1",
        "outputId": "6d2cf8d3-7bdb-4cc2-a55f-ed9f541d6051"
      },
      "execution_count": 29,
      "outputs": [
        {
          "output_type": "display_data",
          "data": {
            "text/plain": [
              "<Figure size 640x480 with 2 Axes>"
            ],
            "image/png": "[encoded data removed]"
          },
          "metadata": {}
        }
      ]
    },
    {
      "cell_type": "markdown",
      "source": [
        "# Multi-head Attention과 Scaled dot-product Attention"
      ],
      "metadata": {
        "id": "e6DQYtM2Cthb"
      }
    },
    {
      "cell_type": "markdown",
      "source": [
        "scaled dot-product attention"
      ],
      "metadata": {
        "id": "50L88_MUHvNk"
      }
    },
    {
      "cell_type": "code",
      "source": [
        "def scaled_dot_product_attention(q, k, v, mask):\n",
        "    matmul_qk = tf.matmul(q, k, transpose_b=True)\n",
        "    dk = tf.cast(tf.shape(k)[-1], tf.float32)\n",
        "    scaled_attention_logits = matmul_qk / tf.math.sqrt(dk)\n",
        "\n",
        "    if mask is not None:\n",
        "        scaled_attention_logits += (mask * -1e9)\n",
        "\n",
        "    attention_weights = tf.nn.softmax(scaled_attention_logits, axis=-1)\n",
        "    output = tf.matmul(attention_weights, v)\n",
        "    return output, attention_weights"
      ],
      "metadata": {
        "id": "1yigriOACsWd"
      },
      "execution_count": 30,
      "outputs": []
    },
    {
      "cell_type": "markdown",
      "source": [
        "Multi-head Attention"
      ],
      "metadata": {
        "id": "oa05pm-jC4_A"
      }
    },
    {
      "cell_type": "code",
      "source": [
        "class MultiHeadAttention(tf.keras.layers.Layer):\n",
        "    def __init__(self, d_model, num_heads):\n",
        "        super(MultiHeadAttention, self).__init__()\n",
        "        self.num_heads = num_heads\n",
        "        self.d_model = d_model\n",
        "        assert d_model % self.num_heads == 0\n",
        "        self.depth = d_model // self.num_heads\n",
        "        self.wq = tf.keras.layers.Dense(d_model)\n",
        "        self.wk = tf.keras.layers.Dense(d_model)\n",
        "        self.wv = tf.keras.layers.Dense(d_model)\n",
        "        self.dense = tf.keras.layers.Dense(d_model)\n",
        "\n",
        "    def split_heads(self, x, batch_size):\n",
        "        x = tf.reshape(x, (batch_size, -1, self.num_heads, self.depth))\n",
        "        return tf.transpose(x, perm=[0, 2, 1, 3])\n",
        "\n",
        "    def call(self, v, k, q, mask):\n",
        "        batch_size = tf.shape(q)[0]\n",
        "        q = self.wq(q)\n",
        "        k = self.wk(k)\n",
        "        v = self.wv(v)\n",
        "        q = self.split_heads(q, batch_size)\n",
        "        k = self.split_heads(k, batch_size)\n",
        "        v = self.split_heads(v, batch_size)\n",
        "\n",
        "        scaled_attention, attention_weights = scaled_dot_product_attention(q, k, v, mask)\n",
        "        scaled_attention = tf.transpose(scaled_attention, perm=[0, 2, 1, 3])\n",
        "        concat_attention = tf.reshape(scaled_attention, (batch_size, -1, self.d_model))\n",
        "        output = self.dense(concat_attention)\n",
        "        return output, attention_weights"
      ],
      "metadata": {
        "id": "2rq72ASFC4yC"
      },
      "execution_count": 31,
      "outputs": []
    },
    {
      "cell_type": "markdown",
      "source": [
        "멀티 헤드 어텐션 작동 테스트"
      ],
      "metadata": {
        "id": "p8MimfLfJ22I"
      }
    },
    {
      "cell_type": "code",
      "source": [
        "# 테스트 데이터 생성\n",
        "batch_size = 64\n",
        "seq_len = 50\n",
        "d_model = 512\n",
        "num_heads = 8\n",
        "\n",
        "# 임의의 마스크 생성 (예시로 None 사용)\n",
        "mask = None\n",
        "\n",
        "# 임의의 시퀀스 생성\n",
        "v = k = q = tf.random.uniform((batch_size, seq_len, d_model))\n",
        "\n",
        "# 멀티 헤드 어텐션 레이어 생성\n",
        "mha = MultiHeadAttention(d_model, num_heads)\n",
        "\n",
        "# 멀티 헤드 어텐션 호출\n",
        "output, attn_weights = mha(v, k, q, mask)\n",
        "\n",
        "print(\"Output shape: \", output.shape)\n",
        "print(\"Attention weights shape: \", attn_weights.shape)"
      ],
      "metadata": {
        "colab": {
          "base_uri": "https://localhost:8080/"
        },
        "id": "Om8pOa5iJ4G9",
        "outputId": "884e3c5e-50a0-4c73-a9dd-3cd741d11bcf"
      },
      "execution_count": 32,
      "outputs": [
        {
          "output_type": "stream",
          "name": "stdout",
          "text": [
            "Output shape:  (64, 50, 512)\n",
            "Attention weights shape:  (64, 8, 50, 50)\n"
          ]
        }
      ]
    },
    {
      "cell_type": "markdown",
      "source": [
        "멀티 헤드 어텐션 레이어가 입력 시퀀스와 동일한 형태의 출력을 생성하는 것을 볼 수 있다. 이는 각 입력 위치가 어텐션 메커니즘을 통해 새롭게 계산된 표현을 가지고 있다는 것을 의미한다."
      ],
      "metadata": {
        "id": "XBr1aOfqQyi8"
      }
    },
    {
      "cell_type": "code",
      "source": [
        "print(tf.reduce_sum(attn_weights, axis=-1))"
      ],
      "metadata": {
        "colab": {
          "base_uri": "https://localhost:8080/"
        },
        "id": "lZzr3MgERc0W",
        "outputId": "31aa3016-b128-4285-bc70-e764ac441e6f"
      },
      "execution_count": 33,
      "outputs": [
        {
          "output_type": "stream",
          "name": "stdout",
          "text": [
            "tf.Tensor(\n",
            "[[[1.         0.9999999  1.         ... 1.         1.         1.0000001 ]\n",
            "  [0.99999994 1.         1.         ... 1.         1.         0.99999994]\n",
            "  [1.         1.0000001  0.99999994 ... 1.         1.0000001  1.        ]\n",
            "  ...\n",
            "  [1.         1.         1.         ... 1.         1.         1.        ]\n",
            "  [1.         1.         1.         ... 1.0000001  1.0000001  1.        ]\n",
            "  [1.         1.         1.         ... 1.         1.         1.        ]]\n",
            "\n",
            " [[1.         1.         1.         ... 1.         0.99999994 1.        ]\n",
            "  [1.         1.         1.         ... 1.0000001  0.9999999  0.99999994]\n",
            "  [1.         1.         1.         ... 1.         0.99999994 1.        ]\n",
            "  ...\n",
            "  [1.         1.         1.         ... 1.         0.99999994 0.9999999 ]\n",
            "  [1.         1.         1.         ... 0.99999994 1.         1.        ]\n",
            "  [1.         1.         1.0000001  ... 1.         0.99999994 1.        ]]\n",
            "\n",
            " [[1.0000001  1.         1.         ... 1.0000001  0.99999994 0.99999994]\n",
            "  [0.99999994 1.         1.         ... 1.         1.         0.99999994]\n",
            "  [1.         1.         0.99999994 ... 1.         0.9999999  1.        ]\n",
            "  ...\n",
            "  [1.         1.         0.99999994 ... 1.         0.99999994 1.        ]\n",
            "  [0.99999994 1.         1.         ... 0.99999994 1.         1.        ]\n",
            "  [0.99999994 0.9999999  1.         ... 0.99999994 1.         1.        ]]\n",
            "\n",
            " ...\n",
            "\n",
            " [[1.         1.         0.9999999  ... 1.         1.         1.        ]\n",
            "  [0.99999994 1.         1.         ... 1.         0.99999994 1.        ]\n",
            "  [1.         1.         1.         ... 0.9999999  1.         1.        ]\n",
            "  ...\n",
            "  [1.         1.         0.99999994 ... 1.         0.99999994 0.9999999 ]\n",
            "  [1.         1.         1.         ... 1.0000001  1.         1.        ]\n",
            "  [0.9999999  1.         1.         ... 1.         1.         1.        ]]\n",
            "\n",
            " [[1.         1.         1.         ... 1.0000001  1.         0.99999994]\n",
            "  [1.         1.         1.         ... 1.         0.9999999  1.        ]\n",
            "  [1.         1.         1.         ... 1.         0.99999994 1.        ]\n",
            "  ...\n",
            "  [0.99999994 0.99999994 1.0000001  ... 1.         1.         1.        ]\n",
            "  [1.         1.         1.         ... 1.         1.         1.        ]\n",
            "  [1.         0.9999999  1.         ... 1.0000001  1.         1.        ]]\n",
            "\n",
            " [[1.         0.99999994 1.         ... 1.         1.         1.        ]\n",
            "  [1.0000001  1.         0.9999999  ... 1.         1.         1.        ]\n",
            "  [0.99999994 1.         1.         ... 0.99999994 1.         1.0000001 ]\n",
            "  ...\n",
            "  [0.9999999  0.9999999  1.         ... 1.         0.99999994 0.9999999 ]\n",
            "  [1.         1.         1.         ... 1.         1.         1.        ]\n",
            "  [0.9999999  1.         1.         ... 1.         1.         1.        ]]], shape=(64, 8, 50), dtype=float32)\n"
          ]
        }
      ]
    },
    {
      "cell_type": "markdown",
      "source": [
        "그리고 각 입력 위치에서 가중치의 합이 거의 모두 1로 수렴하는 것을 통해 멀티 헤드 어텐션 레이어가 제대로 작동한다는 것을 확인할 수 있다."
      ],
      "metadata": {
        "id": "zqeTf0CrRngB"
      }
    },
    {
      "cell_type": "markdown",
      "source": [
        "# Additive Attention"
      ],
      "metadata": {
        "id": "ftdc3DoRpOOA"
      }
    },
    {
      "cell_type": "code",
      "source": [
        "class AdditiveAttention(tf.keras.layers.Layer):\n",
        "    def __init__(self, units):\n",
        "        super(AdditiveAttention, self).__init__()\n",
        "        self.W1 = tf.keras.layers.Dense(units)\n",
        "        self.W2 = tf.keras.layers.Dense(units)\n",
        "        self.V = tf.keras.layers.Dense(1)\n",
        "\n",
        "    def call(self, query, values):\n",
        "        query_with_time_axis = tf.expand_dims(query, 1)\n",
        "\n",
        "        score = self.V(tf.nn.tanh(\n",
        "            self.W1(query_with_time_axis) + self.W2(values)))\n",
        "\n",
        "        attention_weights = tf.nn.softmax(score, axis=1)\n",
        "\n",
        "        context_vector = attention_weights * values\n",
        "        context_vector = tf.reduce_sum(context_vector, axis=1)"
      ],
      "metadata": {
        "id": "iKe51gldl65R"
      },
      "execution_count": 34,
      "outputs": []
    },
    {
      "cell_type": "markdown",
      "source": [
        "# Position-Wise Feed-Forward Neural Network"
      ],
      "metadata": {
        "id": "EEzAAcZrWY42"
      }
    },
    {
      "cell_type": "code",
      "source": [
        "class PositionWiseFeedForwardNetwork(tf.keras.layers.Layer):\n",
        "    def __init__(self, d_model, dff):\n",
        "        super(PositionWiseFeedForwardNetwork, self).__init__()\n",
        "\n",
        "        self.fc1 = tf.keras.layers.Dense(dff, activation='relu')  # (배치 사이즈, 시퀀스 길이, dff)\n",
        "        self.fc2 = tf.keras.layers.Dense(d_model)  # (배치 사이즈, 시퀀스 길이, 임베딩 벡터 차원)\n",
        "\n",
        "    def call(self, x):\n",
        "        x = self.fc1(x)\n",
        "        x = self.fc2(x)\n",
        "        return x"
      ],
      "metadata": {
        "id": "fgsqBi7DWZLw"
      },
      "execution_count": 35,
      "outputs": []
    },
    {
      "cell_type": "markdown",
      "source": [
        "# 패딩 마스크\n",
        "\n",
        "시퀀스 길이를 동일하게 맞추기 위해 추가된 패딩 토큰(padding token)을 처리하는 데 사용된다. 시퀀스 데이터를 처리할 때, 배치 내의 모든 시퀀스가 동일한 길이를 가져야 하는 경우가 많은데, 이 때 길이가 짧은 시퀀스에 패딩 토큰을 추가하여 모든 시퀀스 길이를 동일하게 맞추는 역할을 한다."
      ],
      "metadata": {
        "id": "b0epG-9zRvEo"
      }
    },
    {
      "cell_type": "code",
      "source": [
        "def create_padding_mask(x):\n",
        "  mask = tf.cast(tf.math.equal(x, 0), tf.float32)\n",
        "  return mask[:, tf.newaxis, tf.newaxis, :]  # (배치 사이즈, 1, 1, 키 문장 길이)"
      ],
      "metadata": {
        "id": "b_MYpUOLRvUe"
      },
      "execution_count": 36,
      "outputs": []
    },
    {
      "cell_type": "markdown",
      "source": [
        "# 인코더 구현"
      ],
      "metadata": {
        "id": "QoiiyxM8TkJ4"
      }
    },
    {
      "cell_type": "code",
      "source": [
        "class EncoderLayer(tf.keras.layers.Layer):\n",
        "    def __init__(self, d_model, num_heads, dff, rate=0.1):\n",
        "        super(EncoderLayer, self).__init__()\n",
        "\n",
        "        # Multi-Head Attention과 Position-Wise FFNN을 사용\n",
        "        self.multi_head_attention = MultiHeadAttention(d_model, num_heads)\n",
        "        self.ffn = PositionWiseFeedForwardNetwork(d_model, dff)\n",
        "\n",
        "        # 레이어 정규화 정의\n",
        "        self.layernorm1 = tf.keras.layers.LayerNormalization(epsilon=1e-6)\n",
        "        self.layernorm2 = tf.keras.layers.LayerNormalization(epsilon=1e-6)\n",
        "\n",
        "        # 드롭아웃 정의\n",
        "        self.dropout1 = tf.keras.layers.Dropout(rate)\n",
        "        self.dropout2 = tf.keras.layers.Dropout(rate)\n",
        "\n",
        "    def call(self, x, training, mask):\n",
        "        attn_output, _ = self.multi_head_attention(x, x, x, mask)  # 첫 번째 서브층: MultiHead Attention\n",
        "        attn_output = self.dropout1(attn_output, training=training)  # 드롭아웃\n",
        "        out1 = self.layernorm1(x + attn_output)  # 레이어 정규화 및 잔차 연결\n",
        "\n",
        "        ffn_output = self.ffn(out1)  # 두 번째 서브층: FFNN\n",
        "        ffn_output = self.dropout2(ffn_output, training=training)  # 드롭아웃\n",
        "        out2 = self.layernorm2(out1 + ffn_output)  # 레이어 정규화 및 잔차 연결\n",
        "\n",
        "        return out2"
      ],
      "metadata": {
        "id": "LflaHN4Tl67D"
      },
      "execution_count": 37,
      "outputs": []
    },
    {
      "cell_type": "code",
      "source": [
        "class Encoder(tf.keras.layers.Layer):\n",
        "    def __init__(self, num_layers, d_model, num_heads, dff, input_vocab_size, maximum_position_encoding, rate=0.1):\n",
        "        super(Encoder, self).__init__()\n",
        "\n",
        "        self.d_model = d_model  # 데이터 차원\n",
        "        self.num_layers = num_layers  # 레이어 수\n",
        "\n",
        "        self.embedding = tf.keras.layers.Embedding(input_vocab_size, d_model)  # 단어 임베딩\n",
        "        self.pos_encoding = PositionalEncoding(maximum_position_encoding, self.d_model)  # 포지셔널 인코딩\n",
        "\n",
        "        self.enc_layers = [EncoderLayer(d_model, num_heads, dff, rate) for _ in range(num_layers)]\n",
        "\n",
        "        self.dropout = tf.keras.layers.Dropout(rate)  # 드롭아웃\n",
        "\n",
        "    def call(self, x, training, mask):\n",
        "        seq_len = tf.shape(x)[1]\n",
        "\n",
        "        x = self.embedding(x)  # 임베딩 추가\n",
        "        x *= tf.math.sqrt(tf.cast(self.d_model, tf.float32))  # 임베딩 스케일링\n",
        "        x = self.pos_encoding(x) # 포지셔널 인코딩\n",
        "\n",
        "        x = self.dropout(x, training=training)  # 드롭아웃\n",
        "\n",
        "        # 레이어 수만큼 레이어 쌓기\n",
        "        for i in range(self.num_layers):\n",
        "            x = self.enc_layers[i](x, training, mask)\n",
        "\n",
        "        return x  # (배치 사이즈, 시퀀스 길이(단어 개수), 데이터 차원)"
      ],
      "metadata": {
        "id": "RDdi3uTRI1PU"
      },
      "execution_count": 38,
      "outputs": []
    },
    {
      "cell_type": "markdown",
      "source": [
        "인코더 테스트"
      ],
      "metadata": {
        "id": "kJQVZ5C6ZUF6"
      }
    },
    {
      "cell_type": "code",
      "source": [
        "# 테스트에 사용할 더미 입력 데이터 생성\n",
        "input_data = np.random.randint(10000, size=(10, 50))  # 배치 사이즈 10, 시퀀스 길이 50\n",
        "\n",
        "encoder = Encoder(num_layers=6, d_model=512, num_heads=8, dff=2048, input_vocab_size=10000, maximum_position_encoding=1000)\n",
        "output = encoder(input_data, training=False, mask=None)\n",
        "\n",
        "print(\"Output Shape :\", output.shape)"
      ],
      "metadata": {
        "colab": {
          "base_uri": "https://localhost:8080/"
        },
        "id": "fMLdQosiZVyu",
        "outputId": "cc322ca2-4500-4ed1-c3dd-dab5ba2683a3"
      },
      "execution_count": 39,
      "outputs": [
        {
          "output_type": "stream",
          "name": "stdout",
          "text": [
            "Output Shape : (10, 50, 512)\n"
          ]
        }
      ]
    },
    {
      "cell_type": "code",
      "source": [],
      "metadata": {
        "id": "3rZqeeUYc6_3"
      },
      "execution_count": 39,
      "outputs": []
    },
    {
      "cell_type": "markdown",
      "source": [
        "# Look-Ahead Mask"
      ],
      "metadata": {
        "id": "UzmxsKOig-kP"
      }
    },
    {
      "cell_type": "code",
      "source": [
        "# 디코더의 첫번째 서브층(sublayer)에서 미래 토큰을 마스킹하는 함수\n",
        "def create_look_ahead_mask(x):\n",
        "  seq_len = tf.shape(x)[1]\n",
        "  look_ahead_mask = 1 - tf.linalg.band_part(tf.ones((seq_len, seq_len)), -1, 0)\n",
        "  padding_mask = create_padding_mask(x) # 패딩 마스크도 포함\n",
        "  return tf.maximum(look_ahead_mask, padding_mask)"
      ],
      "metadata": {
        "id": "Kibm1WW6hB8d"
      },
      "execution_count": 40,
      "outputs": []
    },
    {
      "cell_type": "markdown",
      "source": [
        "# 디코더"
      ],
      "metadata": {
        "id": "Pdwe74b2gNrr"
      }
    },
    {
      "cell_type": "code",
      "source": [
        "class DecoderLayer(tf.keras.layers.Layer):\n",
        "    def __init__(self, d_model, num_heads, dff, rate=0.1):\n",
        "        super(DecoderLayer, self).__init__()\n",
        "\n",
        "        # 멀티 헤드 어텐션 정의\n",
        "        self.multi_head_attention_1 = MultiHeadAttention(d_model, num_heads)\n",
        "        self.multi_head_attention_2 = MultiHeadAttention(d_model, num_heads)\n",
        "\n",
        "        # 포지션 와이즈 피드 포워드 신경망 정의\n",
        "        self.ffn = PositionWiseFeedForwardNetwork(d_model, dff)\n",
        "\n",
        "        # 레이어 정규화 정의\n",
        "        self.layernorm1 = tf.keras.layers.LayerNormalization(epsilon=1e-6)\n",
        "        self.layernorm2 = tf.keras.layers.LayerNormalization(epsilon=1e-6)\n",
        "        self.layernorm3 = tf.keras.layers.LayerNormalization(epsilon=1e-6)\n",
        "\n",
        "        # 드롭아웃 정의\n",
        "        self.dropout1 = tf.keras.layers.Dropout(rate)\n",
        "        self.dropout2 = tf.keras.layers.Dropout(rate)\n",
        "        self.dropout3 = tf.keras.layers.Dropout(rate)\n",
        "\n",
        "    def call(self, x, enc_output, training, look_ahead_mask, padding_mask):\n",
        "        attn1, attn_weights_block1 = self.multi_head_attention_1(x, x, x, look_ahead_mask)  # 첫 번째 서브층: 멀티 헤드 어텐션(look-ahead 마스크, 셀프 어텐션)\n",
        "        attn1 = self.dropout1(attn1, training=training)  # 드롭아웃\n",
        "        out1 = self.layernorm1(attn1 + x)  # 레이어 정규화 및 잔차 연결\n",
        "\n",
        "        attn2, attn_weights_block2 = self.multi_head_attention_2(enc_output, enc_output, out1, padding_mask)  # 두 번째 서브층: 멀티 헤드 어텐션(패딩 마스크)\n",
        "        attn2 = self.dropout2(attn2, training=training)  # 드롭아웃\n",
        "        out2 = self.layernorm2(attn2 + out1)  # 레이어 정규화 및 잔차 연결\n",
        "\n",
        "        ffn_output = self.ffn(out2)  # 세 번째 서브층: 포지션 와이즈 FFNN\n",
        "        ffn_output = self.dropout3(ffn_output, training=training)  # 드롭아웃\n",
        "        out3 = self.layernorm3(ffn_output + out2)  # 레이어 정규화 및 잔차 연결\n",
        "\n",
        "        return out3, attn_weights_block1, attn_weights_block2"
      ],
      "metadata": {
        "id": "mQUiTeUmgNf7"
      },
      "execution_count": 41,
      "outputs": []
    },
    {
      "cell_type": "code",
      "source": [
        "class Decoder(tf.keras.layers.Layer):\n",
        "    def __init__(self, num_layers, d_model, num_heads, dff, target_vocab_size, maximum_position_encoding, rate=0.1):\n",
        "        super(Decoder, self).__init__()\n",
        "\n",
        "        self.d_model = d_model  # 데이터 차원\n",
        "        self.num_layers = num_layers  # 레이어 수\n",
        "\n",
        "        self.embedding = tf.keras.layers.Embedding(target_vocab_size, d_model)  # 단어 임베딩\n",
        "        self.pos_encoding = PositionalEncoding(maximum_position_encoding, self.d_model)  # 포지셔널 인코딩\n",
        "\n",
        "        self.dec_layers = [DecoderLayer(d_model, num_heads, dff, rate) for _ in range(num_layers)]  # 각 레이어 정의(세 서브층이 하나의 레이어)\n",
        "\n",
        "        self.dropout = tf.keras.layers.Dropout(rate)  # 드롭아웃\n",
        "\n",
        "    def call(self, x, enc_output, training, look_ahead_mask, padding_mask):\n",
        "        seq_len = tf.shape(x)[1]\n",
        "        attention_weights = {}\n",
        "\n",
        "        x = self.embedding(x)\n",
        "        x *= tf.math.sqrt(tf.cast(self.d_model, tf.float32))\n",
        "        x = self.pos_encoding(x)\n",
        "\n",
        "        x = self.dropout(x, training=training)\n",
        "\n",
        "        for i in range(self.num_layers):\n",
        "            x, block1, block2 = self.dec_layers[i](x, enc_output, training, look_ahead_mask, padding_mask)\n",
        "\n",
        "            attention_weights['decoder_layer{}_block1'.format(i+1)] = block1\n",
        "            attention_weights['decoder_layer{}_block2'.format(i+1)] = block2\n",
        "\n",
        "        return x, attention_weights  # (배치 사이즈, 목표 시퀀스 길이, 모델의 임베딩 차원), 가중치"
      ],
      "metadata": {
        "id": "GeMC6USnkvib"
      },
      "execution_count": 42,
      "outputs": []
    },
    {
      "cell_type": "markdown",
      "source": [
        "목표 시퀀스 길이: 예를 들어 기계 번역을 수행할 때에는 목표 언어에 대한 번역된 문장의 길이를 말한다. 즉, 출력 시퀀스의 길이가 된다.\n",
        "\n",
        "모델의 임베딩 차원: 각 단어나 토큰이 모델에 의해 표현되는 벡터의 차원 수이다. 모델의 복잡성과 능력을 결정하는 중요한 파라미터이다."
      ],
      "metadata": {
        "id": "gTzuEQtWKEiC"
      }
    },
    {
      "cell_type": "markdown",
      "source": [
        "# Transformer 모델 생성"
      ],
      "metadata": {
        "id": "xmRWN8ig6SoG"
      }
    },
    {
      "cell_type": "code",
      "source": [
        "def transformer(num_layers, d_model, num_heads, dff, input_vocab_size,\n",
        "                 target_vocab_size, pe_input, pe_target, rate=0.1):\n",
        "    # 인코더, 디코더 입력\n",
        "    inputs = tf.keras.Input(shape=(None,), name=\"inputs\")\n",
        "    dec_inputs = tf.keras.Input(shape=(None,), name=\"dec_inputs\")\n",
        "\n",
        "    # 패딩 & 룩어헤드 마스크 생성\n",
        "    enc_padding_mask = tf.keras.layers.Lambda(create_padding_mask, output_shape=(1, 1, None),\n",
        "                                              name='enc_padding_mask')(inputs)\n",
        "    look_ahead_mask = tf.keras.layers.Lambda(create_look_ahead_mask, output_shape=(1, None, None),\n",
        "                                             name='look_ahead_mask')(dec_inputs)\n",
        "    dec_padding_mask = tf.keras.layers.Lambda(create_padding_mask, output_shape=(1, 1, None),\n",
        "                                              name='dec_padding_mask')(inputs)\n",
        "\n",
        "    # 인코더\n",
        "    encoder = Encoder(num_layers, d_model, num_heads, dff,\n",
        "                      input_vocab_size, pe_input, rate)\n",
        "    enc_output = encoder(inputs, training=True, mask=enc_padding_mask)\n",
        "\n",
        "    # 디코더\n",
        "    decoder = Decoder(num_layers, d_model, num_heads, dff,\n",
        "                      target_vocab_size, pe_target, rate)\n",
        "    dec_output, _ = decoder(dec_inputs, enc_output, training=True,\n",
        "                            look_ahead_mask=look_ahead_mask, padding_mask=dec_padding_mask)\n",
        "\n",
        "    # 완전 연결층(Dense layer)\n",
        "    outputs = tf.keras.layers.Dense(target_vocab_size, name='outputs')(dec_output)\n",
        "\n",
        "    return tf.keras.Model(inputs=[inputs, dec_inputs], outputs=outputs)\n"
      ],
      "metadata": {
        "id": "CycHXjLd6I5P"
      },
      "execution_count": 43,
      "outputs": []
    },
    {
      "cell_type": "markdown",
      "source": [
        "Transformer 테스트"
      ],
      "metadata": {
        "id": "hFrDdgf25YGs"
      }
    },
    {
      "cell_type": "code",
      "source": [
        "transformer_test = transformer(\n",
        "    num_layers = 4,  # 인코더와 디코더의 레이어 개수\n",
        "    d_model = 128,  # 임베딩 벡터의 차원\n",
        "    num_heads = 4,  # 멀티 헤드 어텐션 메커니즘의 헤드 수\n",
        "    dff = 512,  # 피드포워드 네트워크 은닉층의 뉴런 수\n",
        "    input_vocab_size = 9000,  # 입력의 단어 집합 크기\n",
        "    target_vocab_size = 9000,  # 출력의 단어 집합 크기\n",
        "    pe_input = 10000,  # 입력 최대 포지셔널 인코딩 값\n",
        "    pe_target = 10000,  # 출력 최대 포지셔널 인코딩 값\n",
        "    rate = 0.3  # 드롭아웃 비율\n",
        ")\n",
        "\n",
        "tf.keras.utils.plot_model(\n",
        "    transformer_test, to_file='transformer_test.png', show_shapes=True\n",
        ")"
      ],
      "metadata": {
        "colab": {
          "base_uri": "https://localhost:8080/",
          "height": 240
        },
        "id": "Yf1nSzxX6JiG",
        "outputId": "a350f1b4-2c0a-4ea2-e8bd-119eef97811c"
      },
      "execution_count": 44,
      "outputs": [
        {
          "output_type": "execute_result",
          "data": {
            "image/png": "[encoded data removed]",
            "text/plain": [
              "<IPython.core.display.Image object>"
            ]
          },
          "metadata": {},
          "execution_count": 44
        }
      ]
    },
    {
      "cell_type": "markdown",
      "source": [],
      "metadata": {
        "id": "VHw3Q4HfTO5u"
      }
    },
    {
      "cell_type": "markdown",
      "source": [
        "# **챗봇 구현**"
      ],
      "metadata": {
        "id": "RCOUnjXc3RAD"
      }
    },
    {
      "cell_type": "markdown",
      "source": [
        "## 데이터 전처리"
      ],
      "metadata": {
        "id": "eXlTCE2d4L_U"
      }
    },
    {
      "cell_type": "markdown",
      "source": [
        "### 데이터 가져오기"
      ],
      "metadata": {
        "id": "eJCziVid9uWI"
      }
    },
    {
      "cell_type": "code",
      "source": [
        "train_data = pd.read_csv('Data.csv')\n",
        "train_data.head()"
      ],
      "metadata": {
        "id": "FZK4vN9z4e4R",
        "colab": {
          "base_uri": "https://localhost:8080/",
          "height": 206
        },
        "outputId": "7a2a2fd8-d34e-49ab-eb44-6de844ed4cd0"
      },
      "execution_count": 46,
      "outputs": [
        {
          "output_type": "execute_result",
          "data": {
            "text/plain": [
              "                 Q            A  label\n",
              "0           12시 땡!   하루가 또 가네요.      0\n",
              "1      1지망 학교 떨어졌어    위로해 드립니다.      0\n",
              "2     3박4일 놀러가고 싶다  여행은 언제나 좋죠.      0\n",
              "3  3박4일 정도 놀러가고 싶다  여행은 언제나 좋죠.      0\n",
              "4          PPL 심하네   눈살이 찌푸려지죠.      0"
            ],
            "text/html": [
              "\n",
              "  <div id=\"df-6ade2d9b-0cec-4e10-a9f0-1c59e5789502\">\n",
              "    <div class=\"colab-df-container\">\n",
              "      <div>\n",
              "<style scoped>\n",
              "    .dataframe tbody tr th:only-of-type {\n",
              "        vertical-align: middle;\n",
              "    }\n",
              "\n",
              "    .dataframe tbody tr th {\n",
              "        vertical-align: top;\n",
              "    }\n",
              "\n",
              "    .dataframe thead th {\n",
              "        text-align: right;\n",
              "    }\n",
              "</style>\n",
              "<table border=\"1\" class=\"dataframe\">\n",
              "  <thead>\n",
              "    <tr style=\"text-align: right;\">\n",
              "      <th></th>\n",
              "      <th>Q</th>\n",
              "      <th>A</th>\n",
              "      <th>label</th>\n",
              "    </tr>\n",
              "  </thead>\n",
              "  <tbody>\n",
              "    <tr>\n",
              "      <th>0</th>\n",
              "      <td>12시 땡!</td>\n",
              "      <td>하루가 또 가네요.</td>\n",
              "      <td>0</td>\n",
              "    </tr>\n",
              "    <tr>\n",
              "      <th>1</th>\n",
              "      <td>1지망 학교 떨어졌어</td>\n",
              "      <td>위로해 드립니다.</td>\n",
              "      <td>0</td>\n",
              "    </tr>\n",
              "    <tr>\n",
              "      <th>2</th>\n",
              "      <td>3박4일 놀러가고 싶다</td>\n",
              "      <td>여행은 언제나 좋죠.</td>\n",
              "      <td>0</td>\n",
              "    </tr>\n",
              "    <tr>\n",
              "      <th>3</th>\n",
              "      <td>3박4일 정도 놀러가고 싶다</td>\n",
              "      <td>여행은 언제나 좋죠.</td>\n",
              "      <td>0</td>\n",
              "    </tr>\n",
              "    <tr>\n",
              "      <th>4</th>\n",
              "      <td>PPL 심하네</td>\n",
              "      <td>눈살이 찌푸려지죠.</td>\n",
              "      <td>0</td>\n",
              "    </tr>\n",
              "  </tbody>\n",
              "</table>\n",
              "</div>\n",
              "      <button class=\"colab-df-convert\" onclick=\"convertToInteractive('df-6ade2d9b-0cec-4e10-a9f0-1c59e5789502')\"\n",
              "              title=\"Convert this dataframe to an interactive table.\"\n",
              "              style=\"display:none;\">\n",
              "        \n",
              "  <svg xmlns=\"http://www.w3.org/2000/svg\" height=\"24px\"viewBox=\"0 0 24 24\"\n",
              "       width=\"24px\">\n",
              "    <path d=\"M0 0h24v24H0V0z\" fill=\"none\"/>\n",
              "    <path d=\"M18.56 5.44l.94 2.06.94-2.06 2.06-.94-2.06-.94-.94-2.06-.94 2.06-2.06.94zm-11 1L8.5 8.5l.94-2.06 2.06-.94-2.06-.94L8.5 2.5l-.94 2.06-2.06.94zm10 10l.94 2.06.94-2.06 2.06-.94-2.06-.94-.94-2.06-.94 2.06-2.06.94z\"/><path d=\"M17.41 7.96l-1.37-1.37c-.4-.4-.92-.59-1.43-.59-.52 0-1.04.2-1.43.59L10.3 9.45l-7.72 7.72c-.78.78-.78 2.05 0 2.83L4 21.41c.39.39.9.59 1.41.59.51 0 1.02-.2 1.41-.59l7.78-7.78 2.81-2.81c.8-.78.8-2.07 0-2.86zM5.41 20L4 18.59l7.72-7.72 1.47 1.35L5.41 20z\"/>\n",
              "  </svg>\n",
              "      </button>\n",
              "      \n",
              "  <style>\n",
              "    .colab-df-container {\n",
              "      display:flex;\n",
              "      flex-wrap:wrap;\n",
              "      gap: 12px;\n",
              "    }\n",
              "\n",
              "    .colab-df-convert {\n",
              "      background-color: #E8F0FE;\n",
              "      border: none;\n",
              "      border-radius: 50%;\n",
              "      cursor: pointer;\n",
              "      display: none;\n",
              "      fill: #1967D2;\n",
              "      height: 32px;\n",
              "      padding: 0 0 0 0;\n",
              "      width: 32px;\n",
              "    }\n",
              "\n",
              "    .colab-df-convert:hover {\n",
              "      background-color: #E2EBFA;\n",
              "      box-shadow: 0px 1px 2px rgba(60, 64, 67, 0.3), 0px 1px 3px 1px rgba(60, 64, 67, 0.15);\n",
              "      fill: #174EA6;\n",
              "    }\n",
              "\n",
              "    [theme=dark] .colab-df-convert {\n",
              "      background-color: #3B4455;\n",
              "      fill: #D2E3FC;\n",
              "    }\n",
              "\n",
              "    [theme=dark] .colab-df-convert:hover {\n",
              "      background-color: #434B5C;\n",
              "      box-shadow: 0px 1px 3px 1px rgba(0, 0, 0, 0.15);\n",
              "      filter: drop-shadow(0px 1px 2px rgba(0, 0, 0, 0.3));\n",
              "      fill: #FFFFFF;\n",
              "    }\n",
              "  </style>\n",
              "\n",
              "      <script>\n",
              "        const buttonEl =\n",
              "          document.querySelector('#df-6ade2d9b-0cec-4e10-a9f0-1c59e5789502 button.colab-df-convert');\n",
              "        buttonEl.style.display =\n",
              "          google.colab.kernel.accessAllowed ? 'block' : 'none';\n",
              "\n",
              "        async function convertToInteractive(key) {\n",
              "          const element = document.querySelector('#df-6ade2d9b-0cec-4e10-a9f0-1c59e5789502');\n",
              "          const dataTable =\n",
              "            await google.colab.kernel.invokeFunction('convertToInteractive',\n",
              "                                                     [key], {});\n",
              "          if (!dataTable) return;\n",
              "\n",
              "          const docLinkHtml = 'Like what you see? Visit the ' +\n",
              "            '<a target=\"_blank\" href=https://colab.research.google.com/notebooks/data_table.ipynb>data table notebook</a>'\n",
              "            + ' to learn more about interactive tables.';\n",
              "          element.innerHTML = '';\n",
              "          dataTable['output_type'] = 'display_data';\n",
              "          await google.colab.output.renderOutput(dataTable, element);\n",
              "          const docLink = document.createElement('div');\n",
              "          docLink.innerHTML = docLinkHtml;\n",
              "          element.appendChild(docLink);\n",
              "        }\n",
              "      </script>\n",
              "    </div>\n",
              "  </div>\n",
              "  "
            ]
          },
          "metadata": {},
          "execution_count": 46
        }
      ]
    },
    {
      "cell_type": "code",
      "source": [
        "print('샘플 크기 :', train_data.shape)"
      ],
      "metadata": {
        "id": "ILSahwIx4h2J",
        "colab": {
          "base_uri": "https://localhost:8080/"
        },
        "outputId": "72e97cd3-3e2e-4a16-fc89-1613bf53e641"
      },
      "execution_count": 47,
      "outputs": [
        {
          "output_type": "stream",
          "name": "stdout",
          "text": [
            "샘플 크기 : (11823, 3)\n"
          ]
        }
      ]
    },
    {
      "cell_type": "code",
      "source": [
        "questions = []\n",
        "for sentence in train_data['Q']:\n",
        "    sentence = re.sub(r\"([?.!,])\", r\" \\1 \", sentence)\n",
        "    sentence = sentence.strip()\n",
        "    questions.append(sentence)\n",
        "\n",
        "answers = []\n",
        "for sentence in train_data['A']:\n",
        "    sentence = re.sub(r\"([?.!,])\", r\" \\1 \", sentence)\n",
        "    sentence = sentence.strip()\n",
        "    answers.append(sentence)"
      ],
      "metadata": {
        "id": "hKttAMwFAlBD"
      },
      "execution_count": 48,
      "outputs": []
    },
    {
      "cell_type": "code",
      "source": [
        "# print(np.array(questions).shape)\n",
        "# print(np.array(answers).shape)\n",
        "\n",
        "print(len(questions))\n",
        "print(len(answers))"
      ],
      "metadata": {
        "colab": {
          "base_uri": "https://localhost:8080/"
        },
        "id": "FMn52oYwAtW_",
        "outputId": "5a5de3be-3839-4f67-9612-5e4bd4c2c513"
      },
      "execution_count": 49,
      "outputs": [
        {
          "output_type": "stream",
          "name": "stdout",
          "text": [
            "11823\n",
            "11823\n"
          ]
        }
      ]
    },
    {
      "cell_type": "markdown",
      "source": [
        "### 단어 집합 생성"
      ],
      "metadata": {
        "id": "5JN3_MaLCudh"
      }
    },
    {
      "cell_type": "code",
      "source": [
        "# Q와 A column을 합친 후 중복을 제거하여 전체 문장 집합 생성\n",
        "sentences = questions + answers\n",
        "\n",
        "# SubwordTextEncoder를 사용하여 단어 집합 생성\n",
        "tokenizer = tfds.deprecated.text.SubwordTextEncoder.build_from_corpus(\n",
        "    sentences, target_vocab_size=2**13)  # target_vocab_size: 단어 집합의 크기\n",
        "\n",
        "# 생성된 단어 집합 출력\n",
        "print(tokenizer.subwords)\n",
        "\n",
        "# 시작 토큰과 종료 토큰에 대한 정수 부여\n",
        "START_TOKEN, END_TOKEN = [tokenizer.vocab_size], [tokenizer.vocab_size + 1]\n",
        "VOCAB_SIZE = tokenizer.vocab_size + 2"
      ],
      "metadata": {
        "colab": {
          "base_uri": "https://localhost:8080/"
        },
        "id": "nwrge2lsC-9H",
        "outputId": "3ce43661-3242-420a-ffed-7c3f2f3e6191"
      },
      "execution_count": 50,
      "outputs": [
        {
          "output_type": "stream",
          "name": "stdout",
          "text": [
            "[' .', ' ?', '거예요', '수_', '게_', '너무_', '더_', '거_', '좋아하는_', '는_', '이_', '을_', '잘_', '도_', ' .  ', '고_', '요', '것_', '많이_', '안_', '좋은_', '같아요', '한_', '좀_', '있어요', '싶어', '가_', '나_', '에_', '있을_', '지_', '해보세요', '은_', '사람_', '할_', '해', '같아', '네', '면_', '건_', ' !', '사람이_', '를_', '마세요', '다_', '하고_', '지', '하는_', '보세요', '죠', '어', '서_', '내가_', '의_', '다', '내_', '이제_', '마음이_', '나', '다른_', '썸_', '만_', '그_', '어떻게_', '있는_', '왜_', '싶다', '세요', '다시_', '시간이_', '수도_', '없어', '것도_', '또_', '좋을_', '오늘_', '정말_', '가', '이', '같이_', '네요', '될_', '해요', '자꾸_', '걸_', '있어', '하세요', '없어요', '일_', '제가_', '길_', '바랄게요', '로_', '까', '돼요', '하면_', '봐요', '할까', '때_', '저도_', '으로_', '먼저_', '있을까', '에서_', '주세요', '그런_', '헤어진지_', '이별_', '될까', '기_', '고', '진짜_', '나를_', '야', '마음을_', '여자친구가_', '기', '좋아요', '없는_', '계속_', '남자친구가_', '혼자_', '해도_', '이별', '못_', '드세요', '줄_', '않아요', '먹고_', '는데_', '좋죠', '하지_', '일이_', '힘든_', '아', '바랍니다', '마음_', '그럴_', '좋아', '보고_', '데_', '돼', '했어', '만큼_', '생각해요', '말해보세요', '나봐요', '자', '주', '연락_', '사랑이_', '좋겠어요', '친구가_', '습니다', '사람은_', '뭐_', '대', '있으면_', '무슨_', '야_', '아직_', '많은_', '과_', '날_', '합니다', '연애_', '에요', '안', '시간_', '그냥_', '하', '인_', '이렇게_', '서', '몰라요', '는게_', '예요', '어떤_', '수', '자신을_', '사랑은_', '참_', '보', '사람을_', '내', '구', '힘드네', '비', '던_', '어떨까요', '새로운_', '사람', '사', '나만_', '생각해보세요', '말고_', '하게_', '타는_', '안돼', '봐', '같은_', ' ,  ', '중', '인데_', '여', '듯', '술_', '랑_', '는데', '살_', '리', '가고_', '아니에요', '생각이_', '사랑_', '힘들어', '해야_', '짝사랑_', '으면_', '말_', '도', '좋겠네요', '전_', '있는데_', '사랑하는_', '부', '긴_', '생각을_', '거라_', '헤어진_', '질_', '지금_', '연락이_', '라고_', '거', '항상_', '좋겠다', '입니다', '싫어', '시', '선물_', '많아', '그게_', '가는_', '니_', '나한테_', '그렇게_', '한', '짝남이_', '저는_', '이젠_', '이별을_', '모르겠어', '그', '저', '볼까', '바라요', '면서_', '겠죠', '걸까', '후_', '차', '서로_', '마음에_', '때가_', '들', '나는_', '않는_', '만날_', '데', '찾아보세요', '진_', '무', '하죠', '이별은_', '쉽지_', '사랑을_', '보다_', '라', '돈_', '꼭_', '직접_', '올_', '싶은_', '된_', '니', '겠어요', '가보세요', '왔어', '말을_', '마', '따라_', '날', '괜찮아요', '겠네요', '하나', '충분히_', '좋겠어', '있죠', '해볼까', '지도_', '좋을까', '일', '않을_', '소', '보는_', '말', '도움이_', '대화를_', ' . ', '열심히_', '물어보세요', '다고_', '힘들_', '짝남_', '인', '오세요', '없이_', '때문에_', '니까_', '타', '음', '와', '오래_', '연애', '연락을_', '얼른_', '봅니다', '말아요', '마음의_', '동', '데이트_', '대로_', '니까요', '난_', '친구_', '져', '제_', '연락해보세요', '사랑의_', '모', '만', '로', '해서_', '함께_', '큰_', '짝녀가_', '집에_', '아직도_', '시간을_', '바', '게', '히_', '하네', '조심하세요', '조금만_', '조금_', '있나봐요', '오늘도_', '어요', '아파', '생각_', '볼_', '면', '라_', '들어', '당신의_', '내일_', '결국_', '함', '째', '조금씩_', '제일_', '장', '의', '요즘_', '어때', '않은_', '남자_', '하지', '중요한_', '신', '방법', '래', '대한_', '는', '남', '건가', '가장_', ' ?  ', '집_', '제', '반', '남자가_', '그래도_', '같애', '갈_', '중요해요', '정', '자신의_', '없네', '싶은데_', '심', '세', '살고_', '사람이랑_', '되나', '걸', '갑자기_', '잘할_', '여자가_', '번_', '뭘까', '려', '겠지', '헤어지고_', '해_', '치', '차_', '받아', '못', '되는_', '공', '결혼_', '가요', '짝남한테_', '지만_', '주는_', '일까', '여행_', '어떡해', '싶어요', '스', '방법_', '모르는_', '매일_', '기도_', '했는데_', '하는게_', '줘', '정리가_', '저랑_', '엄청_', '나와', '같은데_', '가봐요', '지금도_', '전에_', '자고_', '이야', '오', '여자', '식', '생각보다_', '상', '사는_', '분', '모르겠어요', '딱_', '됐어', '다가_', '나쁜_', '한테_', '카톡_', '처럼_', '자주_', '오늘은_', '애', '시작', '스트레스_', '받고_', '머리_', '되', '나봐', '해주세요', '하는데_', '친구랑_', '천천히_', '질', '이죠', '을', '어제_', '사랑', '보면_', '뭐가_', '두', '기분이_', '기분_', '확신이_', '화', '하기_', '점점_', '잠', '잘하고_', '있다면_', '이에요', '을까', '와_', '양', '사람한테_', '밥_', '뭘_', '맛있게_', '든_', '거죠', '후', '한달', '잘', '자신이_', '임', '인연이_', '으면', '생각해', '사세요', '사랑해', '사람도_', '벌써_', '만에_', '만나고_', '라도_', '들_', '덜_', '당신이_', '당신을_', '달', '나서_', '것', '힘내세요', '핸드폰_', '하나씩_', '지는_', '전', '잘하는_', '이유가_', '우리_', '여자친구_', '없을_', '알_', '쉬운_', '쉬', '살', '사람들이_', '뿐이에요', '빨리_', '미', '먹', '러_', '러', '깨', '공부_', '가서_', '힘들다', '해봐요', '할', '피', '진', '좀', '조', '적인_', '일찍_', '유', '연락', '언젠간_', '아닌_', '아_', '쓰', '서로에게_', '생각나', '사랑에_', '믿어요', '몸', '많았어요', '만나', '눈을_', '네_', '냐', '남자친구_', '군요', '간다', '했던_', '잠시_', '인지_', '이런_', '에는_', '야지', '않죠', '안해', '설레', '생각', '사귀고_', '방', '모두_', '매', '되지_', '되길_', '단', '남자', '나도_', '기가_', '그만_', '감', '필요한_', '트', '크', '좋아할_', '절', '재', '있었나봐요', '이야기', '신경쓰지_', '비_', '발', '물_', '맞는_', '만나는_', '마지막_', '달라고_', '놀', '끝나', '까지_', '길', '곳으로_', '건', '거나_', '간', '힘이_', '한번_', '째_', '줄', '이별한지_', '위해_', '연락하고_', '여친_', '여자_', '에', '없죠', '아무래도_', '아무것도_', '아니', '아는_', '부터_', '뭐야', '문', '못하겠어', '맞', '끝', '괜찮은_', '관심_', '거야', '개', '짝녀_', '지금은_', '주무세요', '좋아해', '인가봐요', '이별이_', '이나_', '여친이_', '알았는데', '알아', '않아', '안나', '싶네요', '슬픈_', '생', '배', '반_', '모든_', '몇_', '명', '먹어야지', '려_', '때까지_', '니다', '눈이_', '너', '날이_', '기억', '귀찮아', '괜찮을까', '곧_', '고민', '건지_', '같은데', '감기_', '가끔_', '호', '하루_', '필요해요', '친구를_', '중에_', '준비_', '좋아하면_', '잔_', '있나', '인가', '이네요', '으', '울', '욕', '예의가_', '애가_', '애_', '않아도_', '아픈_', '사귀는_', '보내', '받', '말이_', '많아요', '만났어', '따', '당', '늦지_', '남친_', '나중에_', '금방_', '경', '강', '가져보세요', '힘들게_', '힘들', '확인해보세요', '헤어졌습니다', '편이_', '좋아하게_', '잡', '있습니다', '일을_', '우', '없네요', '실', '살펴보세요', '사진_', '사랑했던_', '미리_', '맘_', '라면_', '되네', '데이트', '당신은_', '남편이_', '난', '나가', '꿈에_', '그녀를_', '궁금해', '감정을_', '갈', '가세요', '가면_', 'ㅠ', '힘들죠', '휴', '허', '행동', '해야지', '한다', '하루', '편', '친구한테_', '취', '추억', '짝녀한테_', '중인데_', '중요하지_', '좋다', '잠이_', '일은_', '이별의_', '은', '위', '원하는_', '워', '오늘', '예쁘게_', '언제나_', '언제_', '알', '아니라_', '실_', '시간', '쉬고_', '수록_', '사랑해주세요', '복', '보통_', '보여', '변화가_', '받을_', '밖에_', '뭐', '맨날_', '마요', '돌', '다는_', '느낌', '누구나_', '노래_', '남자애가_', '나봅니다', '긴', '관심이_', '과', '고민이야', '계', '겠다', '것이_', '가기_', '힘들어요', '확실한_', '행복해', '하면서_', '탈_', '친구', '초', '쳐', '짝남이랑_', '집', '즐거운_', '졌어', '작은_', '자기_', '있는지_', '입', '이별후_', '완전_', '예', '없다면_', '알려줘', '알게_', '썸남_', '손', '성', '새', '비싸', '불', '받았어', '바로_', '물', '먹으면_', '맛있는_', '만나지_', '때는_', '다니', '노', '나요', '그래요', '겠어', '걸로_', '같습니다', 'ㅠㅠ', '힘들겠지만_', '필요해', '텐데', '타고_', '커피_', '주고_', '좋은', '좋겠죠', '적', '원', '운_', '않고_', '아무_', '썸', '싫다', '스스로_', '선', '생길_', '상관_', '법', '밤', '멋진_', '마음', '르', '려고_', '드는_', '돈이_', '다를_', '놓', '너_', '꾸', '결혼', '갈까', '가능', ' !  !', '했', '통', '추', '참', '준_', '전화', '적_', '잠깐_', '이야기_', '용', '오는_', '연락해도_', '여자애가_', '었어', '얼굴_', '어려워', '어느덧_', '약_', '않길_', '안녕', '아이', '아닐까요', '아닌데_', '싸', '시험_', '시간은_', '술', '사이', '사랑하고_', '별_', '받는_', '망', '란_', '라는_', '떨려', '때도_', '드디어_', '다면_', '는거_', '꺼', '까_', '기대', '그리고_', '고민_', '같네요', '감정', '가지고_', '가슴이_', '헤어짐', '하다', '하네요', '카톡', '축하해요', '천', '직', '좋아하는게_', '절대_', '저_', '자연스러운_', '있었', '인사', '이제는_', '이유', '움', '오래', '영화_', '어서_', '앞에_', '알고_', '아닌지_', '써', '신경_', '소개팅_', '설', '선택', '생각하고_', '사랑하면_', '사람에게_', '사람에_', '보지_', '별', '받아들이는_', '바람', '미련이_', '미련', '뭔지_', '뭐라고_', '물어보는_', '문제가_', '무서워', '못하는_', '몸이_', '마음은_', '마음도_', '마시', '더니_', '다행이에요', '눈', '누구', '놈', '근', '그러면_', '고민이_', '같네', '가야지', '1년', '힘들겠어요', '했다', '했는데', '한달_', '학교_', '하는데', '폰_', '카', '충분한_', '짝남', '짐', '진심으로_', '지나', '준비가_', '주지_', '좋아하는데_', '저를_', '장_', '자책하지_', '잊', '이상_', '운동_', '용기를_', '오네', '열', '연', '에도_', '에게_', '않는다면_', '새_', '사람이네요', '사람마다_', '사귀', '봄', '바보', '뭔가_', '뭐든_', '못하', '목', '말하세요', '디', '드릴게요', '드', '두_', '되고_', '되겠네요', '동안_', '돌아', '다음에는_', '는지_', '내려', '끝이_', '꿈', '꾸준히_', '기다리고_', '글', '교', '관심을_', '공부', '곳이_', '같', '갖고_', '가지', '후회하지_', '후폭풍이_', '회사_', '혼', '향', '해줘', '트_', '텐데_', '터', '차단', '짜증나', '짓', '지요', '증', '죽을_', '좋아하는지_', '종', '적당히_', '잠을_', '자신', '잊지_', '있잖아요', '있네요', '있나요', '있겠어요', '일이', '일도_', '이별이', '이면_', '외', '왔다', '온_', '영화', '영', '없다', '업', '않을까요', '않았으면_', '썸남이_', '생각할_', '상처', '상대', '상_', '사랑하', '사람의_', '사람과_', '비가_', '봐도_', '보러_', '번', '버리세요', '방법이_', '만난_', '만나보세요', '려고', '때', '더', '놓고_', '년', '남친이_', '나랑_', '길이_', '그녀', '그건_', '국', '게임_', '것을_', '것보다_', '헤어지', '하나도_', '풀', '편지', '팔', '파', '친', '청', '처음_', '챙겨', '찾아', '줄까', '주면_', '좋아할까', '졌', '제대로_', '저에게_', '자신에게_', '자신감을_', '잊을_', '잊어', '있어도_', '일이에요', '일상', '울_', '운명', '완전히_', '예뻐', '엔_', '없나', '얼마_', '어려운_', '어디_', '약', '야죠', '애랑_', '았', '알바_', '안들어', '쉽게_', '순간', '속', '성격이_', '서로를_', '생각하', '생각나네', '보고싶어', '벌', '문제', '못한_', '며_', '메', '머리가_', '만들', '만나자고_', '들이_', '됩니다', '되어_', '답', '담', '눈_', '누가_', '넘_', '내는_', '나을_', '나오', '끝을_', '꿈을_', '꿈_', '꽃', '기는_', '그런가봐요', '관계', '거리', '간_', '가슴_', '후회할_', '혼자가_', '행복한_', '했으면_', '했나봐요', '해보는_', '하시', '평', '코', '커', '축하드려요', '지켜', '지워', '좋은데_', '정리', '전화_', '자기', '잊고_', '있지_', '위한_', '원래_', '우산_', '왔는데_', '올려', '온', '예쁜_', '연습을_', '여친', '어_', '않', '안되는_', '아무리_', '씨', '싶지_', '심해', '싫', '시작해보세요', '수가_', '생각하세요', '상황을_', '살짝_', '사랑할_', '붙', '부모님', '버려', '바람_', '못하고_', '먹을_', '맘고생_', '말씀해주세요', '만들어_', '만나세요', '마다_', '릴_', '따로_', '둘_', '두려워', '됨', '되는데', '덜', '누', '놓아주세요', '놀아요', '날씨_', '끝은_', '까요', '급', '금', '그리워', '그녀가_', '괜찮', ' ?  ?', '힘', '히', '후회', '화장실_', '호감이_', '현상이에요', '했습니다', '할텐데', '한데_', '티', '추천', '척_', '척', '차이', '진짜', '직장_', '지만', '줘도_', '준비', '죽', '좋아하', '정리_', '정도_', '적응', '적으로_', '재회_', '잡고_', '잔', '작', '자연스럽게_', '자_', '잊는_', '있고_', '있', '인데', '이해해', '이야기해보세요', '이상해', '이런', '외로워', '여유를_', '없', '어느_', '않네', '안경_', '선_', '생각해_', '생각만_', '상처받', '살까', '산', '사랑한다고_', '사랑한_', '사_', '봤', '본', '베', '밥', '못해', '모르겠네요', '맘', '말해', '말하는_', '말씀해보세요', '말도_', '만나서_', '막', '를', '떠나', '떠', '듯_', '드네', '되면_', '돌아오', '달라', '능력이_', '눈물이_', '노래', '넘', '너무', '남자를_', '기분', '기다릴_', '기다리', '금_', '그러', '그래', '괜히_', '괜찮을_', '고싶어', '견', '건지', '거겠죠', '감정이_', '가자고_', '힘들지_', '환', '확실히_', '호감을_', '헤어졌어', '행복하', '학', '투', '출', '추억이_', '체', '창', '찬', '짝사랑하는_', '짝사랑', '질투', '지켜보세요', '지지_', '지내', '주변_', '죄', '좋지_', '졸려', '정_', '접', '잘해', '자유', '잊혀지', '이혼', '이상한_', '이랑_', '우울', '왔네', '옷_', '온다', '오랜만에_', '여자친구', '어쩔_', '어쩌지', '앞에서_', '알았는데_', '않았어요', '안해도_', '안와', '안되', '썸이_', '썸남한테_', '식_', '시켜', '쉬세요', '쉬는_', '순', '쇼핑', '속이_', '소중한_', '생각하는_', '상황', '삼', '사랑했', '사랑하는데_', '사람이에요', '사람이', '부모님_', '봐_', '배워', '받았', '반대', '박', '뭐하지', '모습', '먹어', '먹는_', '머리', '많죠', '림', '리_', '들어드릴게요', '뒤', '될까요', '되었', '돈을_', '독', '다가가', '느', '눈에_', '내일은_', '내리', '남친', '날씨가_', '나이가_', '나면_', '꿈이_', '꼬', '기억_', '기다리는_', '그사람', '궁금하네요', '군대_', '관', '고생_', '각', '6개월', '2년', '1년_', '힘내', '흘렀네요', '현', '헷갈리게_', '했어요', '하지마세요', '하다보면_', '필요하죠', '피곤해', '편하게_', '편하', '티_', '태', '키', '커플', '축', '추워', '챙겨_', '책_', '찾', '찌', '질까', '진다', '지쳤나봐요', '지나갈_', '좋아하고_', '전해보세요', '전부', '저도요', '재미_', '잠_', '잊어버리세요', '있으니까요', '있는게_', '있겠지', '이해해주세요', '이야기네요', '웠', '우리', '옴', '올라', '예뻐요', '옆에_', '연애는_', '연락해_', '연락하면_', '연락하는_', '연락하', '여자친구의_', '여자친구와_', '여기', '었', '없었', '없는데_', '엄마가_', '얼마나_', '어떡하지', '어때요', '어도_', '약속_', '앞', '알아보세요', '않으면_', '안하고_', '아침_', '아무도_', '시작하', '시작이_', '시간이', '숨', '순간_', '생일', '색', '상황이_', '삶', '살아', '사고_', '뿐이', '빼', '빠', '붙잡고_', '분위기_', '부담', '보이', '보고', '변하', '버', '바뀔_', '미워', '멋있', '만남', '만나면_', '때네요', '든', '되죠', '돌아가', '더라', '다녀', '느려', '눈물', '노력해보세요', '남자친구의_', '난다', '나이', '나의_', '나아', '끝내', '꿨어', '기다려', '그래서_', '그녀의_', '구나', '구_', '고통', '고백', '고민하고_', '겨', '것이', '걱정돼', '걱정', '가져', '3개월', '  .', '힘들겠지', '흐', '후회가_', '후련하', '회사', '함께', '하지만_', '하셨네요', '하나_', '필요는_', '필요_', '표현', '특', '친구들과_', '최고', '첫사랑', '첫_', '처음', '처', '채', '착', '짝녀랑_', '지내고_', '즐기세요', '좋아해도_', '정신_', '정말', '정리하', '정도', '점', '재밌', '잘해줘', '잘못', '자리', '있어_', '있다', '일주일', '일어나', '인형_', '인생은_', '인듯', '이해', '이유를_', '이야기를_', '이별하', '이다', '이게_', '이거_', '의미_', '원망', '웃', '운동하', '용기가_', '왔습니다', '오면_', '였', '연애를_', '연락하지_', '여행을_', '여자친구랑_', '여러_', '없다고_', '언제', '어린', '어디', '야겠다', '않으니까요', '아침에_', '아니라고_', '썸타는_', '썸인지_', '싶', '실감이_', '시군요', '스타일', '속에_', '소식', '소리_', '선물해', '선물이_', '서로의_', '생겼어', '생겼는데_', '생각나는_', '상처를_', '상처가_', '상대방을_', '샀어', '사이가_', '사랑하지_', '사람으로_', '사람들에게_', '사람들_', '사람들', '뿌', '뻔', '불러', '분이_', '봤어', '본_', '복_', '보고싶다', '별로', '변화를_', '변', '백', '물어보', '문자_', '문득_', '무시하세요', '못할_', '몰랐', '몰라', '먹을까', '말할_', '만들어보세요', '만나는게_', '마음이', '마셔', '력', '뜻', '떨어졌어', '떨리', '듣고_', '드리고_', '두세요', '될', '대화', '당신도_', '당신_', '당당하게_', '다른', '다는', '늦게_', '내세요', '남자들은_', '남의_', '날이', '나이_', '기운', '기다려보세요', '괜찮아질_', '괜찮아', '과정', '공부하', '곳에서_', '고백_', '결혼하', '결정을_', '결정', '결', '갑니다', '가지세요', '3주', '2년_', ' !  ', '흘렀', '회사에서_', '혼자', '혹시_', '헤어진', '헤어지자', '헤어', '행복할_', '행복하게_', '행', '해지', '한지_', '한잔_', '한동안은_', '한거_', '한거', '하자고_', '하는건_', '필요할_', '필요', '피해', '피할_', '프사_', '푹_', '표', '편한_', '통_', '타이밍', '코_', '카페_', '친한_', '친구들이_', '취향', '충분해요', '최고죠', '첫사랑_', '첫', '책', '쪽', '짝사랑이_', '짜증', '집에서_', '진정한_', '진급', '지우', '지마세요', '지나가', '지고_', '줬어', '준비해보세요', '주말', '좋아하던_', '좋겠지', '조언_', '조심', '정신', '정리하는게_', '점_', '전여친', '전남친_', '적이', '적극적으로_', '잘하', '자존감이_', '자신에_', '자신_', '잊기', '있지만_', '있을거예요', '있네', '있길_', '있겠죠', '있게_', '인연', '이라고_', '이네', '이건_', '응원합니다', '으로', '위로해_', '위로가_', '운동을_', '운', '용기내서_', '옷', '올까', '였어', '연락해', '연락은_', '여자애한테_', '여자를_', '없으면_', '언젠가_', '언제쯤_', '애한테_', '앞으로_', '않게_', '안하는_', '안돼요', '아픈', '아프네', '아파하', '아예_', '아닐_', '아닌', '아니면_', '아니라면_', '쓰는_', '쐬고_', '싸움', '슬', '스_', '성공', '선택을_', '선물을_', '생기', '생각했', '상대방이_', '상대를_', '사진을_', '사랑해서_', '사귈_', '부분', '부러워요', '부러워', '부담스럽지_', '볼', '변화', '벗', '번호_', '버리', '방법이에요', '방_', '발표_', '받지_', '바꾸', '무섭', '무서운_', '몰', '모습이_', '모습을_', '모르고_', '모르', '면접_', '머', '말이에요', '만든_', '만난지_', '마스크_', '리는_', '떨', '때를_', '때론_', '등', '들었어', '들어가', '둘', '두고_', '되기도_', '됐는데_', '됐네', '돈', '도전', '도와주', '대해_', '대학_', '담배_', '달라지는_', '다들_', '놓아', '놀고_', '녀', '낼_', '내려놓', '남자친구', '나은_', '나왔어', '나가세요', '긴장', '글_', '그렇', '그동안_', '그녀는_', '그녀_', '귀여워', '군', '곳에_', '골', '겼', '건강', '거지', '거려', '같다', '감정에_', '감정_', '가도_', '가능성이_', '~ ', '5년', '4년', '2주', '힘들었겠어요', '힘들어서_', '힘들겠네요', '힘든', '흔적', '흐르', '후회하', '화장_', '화를_', '화_', '헤어지자고_', '헤어졌는데_', '행복', '했네', '해주는_', '해주', '해야', '합', '한달이_', '하러_', '하다_', '하늘_', '하나봐요', '필요하겠네요', '피하세요', '프사', '폭', '파이팅', '태도', '탄', '크게_', '커피', '카페', '침', '친구로_', '치_', '출근', '최선의_', '철', '처음이', '차분히_', '집이_', '진심을_', '지는', '지네', '지났네', '중입니다', '중요하죠', '중간', '준비를_', '좋을텐데', '좋아해요', '좋겠지만_', '조언', '정리할_', '적어보세요', '저한테_', '장난', '장거리_', '잠수', '있을', '있다는_', '있다고_', '일이네요', '인기가_', '이상', '이별통보', '이라도_', '이겨낼_', '의심', '우세요', '왔으면_', '온전히_', '예의', '연인', '역시_', '여행가', '없나봐요', '얼', '어디서_', '알았', '알면서도_', '알면_', '알려주세요', '알려', '안하', '안됐는데_', '아프네요', '아프', '아무', '아름다운_', '아니야', '썸인데_', '썸인가', '썸남이랑_', '싶네', '심리', '싫은_', '신_', '시키', '시원한_', '시다', '습관이에요', '스킨십_', '순_', '숙', '소개팅', '선물', '생활', '생각하지_', '생각이에요', '생각은_', '새로_', '상상', '상사', '사용해보세요', '사소한_', '사랑한다면_', '사랑하는', '사랑으로_', '사라', '빛', '불행', '분들', '부족', '부모님이_', '부럽네요', '보이고_', '보니_', '병', '발_', '받으', '바라', '뭐하고_', '물어봐', '문자', '무엇이든_', '몇', '멋', '먹었', '맛있', '맛이_', '맘이_', '말은_', '말까', '만들어', '만났는데_', '린', '름', '똑같은_', '떨어', '땐_', '따뜻한_', '들을_', '됐으면_', '됐', '동거', '던', '더라고요', '당황', '당했어', '당장_', '다이어트_', '다음', '다가', '는거', '느낌이_', '높', '노력해', '노력', '노래방_', '넌_', '내요', '내보세요', '났', '남자친구와_', '남자는_', '남을_', '남았', '나이는_', '나네', '끝이', '끝까지_', '끈', '끄', '꿈에서_', '깊은_', '길어', '기회가_', '기만_', '글을_', '그리움', '그렇지만_', '그렇지_', '귀엽', '궁금하', '관계를_', '과거', '공부는_', '공감', '고백해보세요', '겠지요', '게요', '것은_', '같아_', '감기', '가지_', '가족', '가능할_', 'SNS_', '6년', '2달', '  ', '힘듭니다', '힘든가봅니다', '후에_', '화장', '혼자만_', '형', '혀', '헤어졌네', '했으면', '했더니_', '해야할지_', '해야할까', '해야겠다', '함이_', '한가봐요', '학교', '하는', '프', '풀릴_', '푸', '표현이_', '포기하', '포', '편해', '파혼', '타는데_', '키우', '카드_', '친구의_', '친구들이랑_', '치고_', '충', '추천_', '챙', '찾아올_', '참아', '참고_', '찍어', '직장', '지난_', '지금이라도_', '즐', '즈', '중인_', '준', '좋지만_', '좋아_', '좋', '조차_', '져요', '전화를_', '전하', '전여친_', '재회', '장이_', '장소', '잘했어요', '잘못_', '잘되', '자격이_', '잊으세요', '있으니_', '있어서_', '읽', '일째', '인지', '인생이_', '인생_', '인가봐', '이지', '이용', '이어', '이사', '이별에는_', '이러', '의사를_', '응', '은근_', '으세요', '울어도_', '운동', '우울해', '우면_', '용돈_', '왜', '와서_', '오지', '영화보', '연애가_', '연락했', '역', '여전히_', '여자한테_', '여자랑_', '여자들은_', '에게', '었는데_', '없지', '없을까', '없어서_', '없겠네요', '엄마_', '어려', '야근', '알바', '않았', '앉', '아픔', '아프다', '아닌데', '아까워', '쓰고_', '썸이', '썸의_', '싶은', '싶습니다', '신혼', '시길_', '시기가_', '시간도_', '슬퍼', '스스로에게_', '숨_', '솔직하게_', '솔로', '속에서_', '세상에_', '성격', '선이_', '선물은_', '샤워', '생각하면_', '생각에_', '새벽에_', '상담_', '살이_', '사람인', '빨', '빌', '부자', '부르', '본인', '보내고_', '보기_', '병원에_', '병_', '변명', '배우', '배려해', '배고파', '받은_', '반지_', '바쁜가봐요', '바쁘게_', '밀당', '믿음이_', '믿어보세요', '믿', '뭐라도_', '문_', '며', '맞는걸까', '맘에_', '많', '만한_', '만들어요', '막_', '마음으로_', '류', '룩', '레', '럽', '량', '뜨', '또', '떠난_', '때문이', '따라', '따뜻하게_', '들이', '들어와', '들고_', '듣', '된', '되는지_', '돌려보세요', '도시락_', '도서관_', '도록_', '데요', '데려다_', '데는_', '대요', '답답해', '다음_', '다시', '다르겠지만_', '다녀오세요', '는건_', '느낌이', '눈물_', '누군가를_', '너에게_', '낫죠', '낫', '남자친구랑_', '남자애_', '남는', '나을까', '나눠보세요', '꽃_', '극복하', '그만큼_', '그만', '그럴까', '그대로_', '귀찮', '괴롭', '괜찮아_', '관계가_', '곳_', '곳', '곤_', '고마워', '결심', '겁', '걸어보세요', '건강에_', '걱정하지_', '거절', '거의_', '거니_', '갔', '갑', '가슴', '가는데_', 'ㅎㅎ', '~~', '7년', '힘들어_', '흔들리', '후회_', '후폭풍_', '후가_', '회사는_', '환승_', '현재를_', '현실적인_', '현실을_', '헤어지지_', '헤어지면_', '헤어졌', '헤어져', '헤아리는_', '헤', '허전하', '행복을_', '행복은_', '했나_', '함을_', '할게요', '한게_', '학원_', '하루를_', '핑계', '필요하', '필', '풀어', '표현해보세요', '표현을_', '평생_', '평가', '편할_', '판단', '투자', '톡', '테', '태어난_', '탈', '타이밍이_', '키_', '콕', '코스', '카톡하', '치가_', '취업', '춥', '축구_', '청소', '찾아_', '착각', '차별', '차단_', '찔', '짧', '짝사랑은_', '집착', '집들이_', '진지', '진심', '직장에서_', '지치', '지쳐', '지났네요', '지가_', '줬으면_', '주지', '주변에_', '주말이_', '주말에_', '좋으면_', '좋아했던_', '좋아했', '좋아해주는_', '종교_', '존중', '존', '조금이라도_', '제발_', '정상', '정리했', '정리하는_', '정리를_', '점이_', '전화하', '전해', '전남친', '잼', '재미가_', '재미', '장난_', '잤어', '자체가_', '자체', '자신만_', '잊는', '있지요', '있음', '있을지도_', '있을까요', '있더라고요', '있겠네요', '입을_', '일하는_', '일하', '일어났', '일까요', '인생을_', '인생', '이제야_', '이요', '이성으로_', '이성', '이상형', '이별에_', '이별도_', '이럴_', '이러지', '이래', '이라_', '이기', '의미', '은연_', '위기', '월', '우리는_', '외모', '외로운_', '왔', '완벽한_', '올', '오르', '오랫동안_', '영원', '염', '연예인_', '연예인', '연애에_', '연애로_', '여자애_', '여자애', '에휴', '엉', '었다', '없는', '얼굴', '어장', '어울리는_', '어렵네', '어려워요', '야할까', '알다가도_', '않을까', '않은', '않으', '않아서_', '않는데_', '않나봐요', '않겠지만_', '안했', '안오', '안되는', '안되겠지', '안가', '아니니까요', '아는데_', '썸을_', '썸은_', '써보세요', '싸워', '싶은데', '싱숭생숭', '실수', '실망', '시어머니가_', '시기', '시간이었', '습관을_', '슬프네요', '스트레스가_', '스타일_', '스럽', '쉬어도_', '술을_', '수는_', '솔직한_', '손_', '소문', '소리', '소_', '셨나봐요', '셨겠어요', '센', '성_', '섭', '선택일_', '생겼네', '생겼', '상태', '상대에게_', '상담', '삶을_', '살았', '사야', '사람들이', '사귀기_', '뿐', '블', '브', '부탁해보세요', '봐야', '봄이_', '본인의_', '복잡하겠어요', '복잡하', '보아요', '보려', '보내는_', '보고싶', '버렸', '배우는_', '방학', '발전', '받으면_', '받아들이', '받아들여', '바쁜_', '바쁘거나_', '미치', '무리', '무너', '못해요', '몰래_', '먹을', '맥주_', '매달', '맞춰', '맞았나봐요', '맞나', '말해볼까', '말이', '많을_', '많은데_', '많은', '만나기로_', '마지막으로_', '마음대로_', '마시고_', '마련이죠', '마련이에요', '마_', '료', '로맨틱한_', '로맨틱하네요', '례', '렸', '래_', '땅', '딱', '들어보세요', '드셔보세요', '드리', '둘이_', '될지도_', '되었습니다', '되어', '되는게_', '도움을_', '도와줘', '더워', '더라도_', '당신이', '답니다', '달_', '닫', '다르겠죠', '다가가보세요', '늘', '느껴', '놔', '노력하는_', '너를_', '남편', '남자랑_', '남기', '날씨', '나혼자_', '끼', '끝일', '끝났어', '끝났', '끝난_', '끌', '꽃다발_', '까지', '까먹', '깊', '기본', '기대세요', '기다리면_', '기다렸', '글로_', '극복할_', '극복', '극', '그랬', '그대', '그는_', '귀가_', '귀', '괜찮은', '괜찮아졌', '관리_', '골라보세요', '고치', '고생했어요', '고백했는데_', '고백해도_', '고백을_', '고민임', '고맙다', '곁에_', '경쟁', '결혼해야', '결혼은_', '견뎌', '건강_', '거면_', '거리를_', '갔다', '감정의_', '감사합니다', '가능해요', '가능할까', '가는', '가끔은_', 'ㅜㅜ', '5년_', '5개월', ' ,', '힘들었을_', '힘드', '흘', '흔들리지_', '흔', '휴대폰_', '훈', '후회는_', '회원정보_', '회사와_', '황', '환승', '확실하', '화내', '화가_', '혼자도_', '호감_', '현실이', '현실의_', '현실', '헤어짐_', '헤어져야_', '험', '행복해지', '햇', '해야죠', '해도', '해결해', '할때_', '할까_', '한데', '한건', '하루도_', '하다가_', '하늘을_', '하는지_', '하는거_', '하고', '하게', '하거나_', '표현해', '표시', '폰', '판', '통화', '통해', '통보', '톡_', '탈출', '타기_', '큼_', '클럽', '컨디션_', '친해', '친_', '치과_', '취해보세요', '취직', '충격', '추천해요', '최', '초대', '쳤', '쳐다', '청해보세요', '청첩장_', '첫사랑이', '천재', '챙겨주', '챙겨드세요', '채워', '찾아가', '찾기를_', '참견', '찰', '차라리_', '차가워', '짧은_', '짝녀에게_', '짝녀', '짓_', '집중', '집안일_', '질거예요', '지쳤', '지금처럼_', '증_', '줬', '줘보세요', '중요한', '중_', '줄게요', '준비하는_', '좋아하는거_', '좋아하나봐요', '종일_', '종교가_', '졸', '존재', '조절', '조금', '젠', '젖', '정확', '절_', '전기', '적어', '적금_', '저녁_', '잠수이별', '잘라', '작아', '자야', '자는_', '자괴감', '잊어야', '있었으면_', '있는데', '있나봅니다', '있기_', '입어', '읽어보세요', '일지도_', '일에_', '일만_', '일년', '이해가_', '이직', '이제', '이상하', '이번에는_', '이번_', '이번', '이미_', '이루어', '의미부여', '음식을_', '은퇴', '으려', '으니까요', '육아', '유지하는_', '웬수', '웨딩', '원_', '웃을_', '웃어', '우선순위', '용기_', '왤케_', '오늘이_', '오늘따라_', '예민해', '연락오', '여행도_', '여행', '여주', '여자친구에게_', '여유가_', '여우', '었나봐요', '없어도_', '얻', '언', '억', '어제', '어떻', '어떨까', '어디까지_', '얘', '약이_', '야하나', '애정', '애인', '애를_', '애들_', '애교', '알았어', '알아보고_', '알아가', '안되네', '악몽', '아침', '아무렇지도_', '아니죠', '씩_', '쓸_', '쓰레기', '썼', '썸녀_', '썸남', '심하', '싫어하는_', '실수를_', '신뢰', '신나는_', '신경쓰이', '식이', '시작_', '시나', '시계', '시겠어요', '스킨십', '스스로', '술이_', '속상해', '속상', '소화제_', '소식이네요', '소리가_', '셔요', '세상은_', '세상에서_', '세상_', '선톡', '생긴_', '생기면_', '생각했는데', '생각했나봐요', '생각만해도_', '상처_', '살아야', '사정이_', '사이에_', '사야지', '사실', '사면_', '사랑했나봐요', '사랑이네요', '사랑이', '사랑도_', '사랑과_', '사람일', '사람인가봐요', '사람들은_', '사는게_', '사귄', '뽀', '빼빼로_', '빼고_', '빠져', '비참', '붙잡', '불편해', '분명', '부분이_', '봅시다', '볶', '보이지_', '보이는_', '보는게_', '보내주세요', '별로_', '법_', '버릴_', '배우자', '배_', '방학이_', '방법이', '방법을_', '받으세요', '받아보세요', '반이', '반복', '바다_', '믿어', '민', '미세먼지_', '미련_', '뭐할까', '물어보는게_', '못했', '목소리를_', '모든걸_', '몇일', '멀', '먼', '먹었어', '먹어보세요', '머리랑_', '맥', '매너', '맞을까', '맛나게_', '맛', '말해주세요', '말이네요', '많지', '많았', '많다', '만하', '만은_', '만들고_', '만드는_', '만났', '만나도_', '막혀', '막말', '마지막', '마음에', '마시면_', '마셔야지', '마무리', '림_', '릴까', '로또_', '렸어', '려는_', '려나', '레_', '러가', '랑', '란', '라고', '뚝', '땡', '때리', '따뜻할_', '드려요', '드_', '두달이_', '되돌', '되겠지', '됐어요', '동성', '동생', '동물_', '돌아올', '데이트하', '데이트를_', '덕', '더라구', '대해서_', '대리', '당했', '당신', '답장', '답이_', '답이', '달콤한_', '단단히_', '단계', '다리_', '다르겠지요', '다가가_', '님', '니가_', '늦어', '능', '늘어요', '는다', '는것', '느낌이야', '느껴지', '느껴져', '눈치가_', '눈치_', '누구든_', '놓치', '놀이_', '놀러_', '노력하겠습니다', '널_', '너도_', '냐에_', '낮', '났어', '남지_', '남에게_', '날까', '나타날_', '나왔', '나올_', '나쁘지_', '나보다_', '나만의_', '나나', '끝났네', '끝나고_', '꿀', '깨요', '깐', '까먹었다', '김에_', '길러', '기회를_', '기억이_', '기숙사_', '기다리는게_', '기념일_', '긍정적인_', '그분_', '그분', '그립', '그리', '그렇다면_', '그럼요', '그러고_', '그것', '귀_', '권태기', '궁금해요', '궁', '괜찮아졌길_', '관심사를_', '관리하세요', '관리', '과정이_', '과일_', '공부해서_', '공개', '고백하면_', '경우', '결혼해도_', '결혼할_', '결혼하면_', '결혼식_', '겠지만_', '게하', '게임', '걸려', '걱정이_', '걱정_', '거짓말_', '거랑_', '거기까지인가봐요', '걔', '갚', '같지_', '갖지_', '강아지_', '감고_', '감_', '가족이_', '가봐', '가벼운_', '4개월', '2주가_', ' !  !  ', '힘들지요', '힘들어하지_', '힘드네_', '힘내지_', '휘', '회식_', '회복', '회', '환승이별', '환승은_', '확인하', '확신', '화장하는_', '화가나', '혼자만의_', '호감', '헤어짐을_', '헤어질_', '헤아리지_', '향수_', '했을', '했네요', '핸드폰', '해야하나', '해봐', '해보', '해낼_', '해결', '해가_', '할지도_', '할까요', '할거야', '한번', '한다면_', '한다는_', '하려고_', '하려', '하던_', '하더', '하니까_', '하니_', '하늘', '하나라도_', '하기도_', '하겠어요', '하겠네요', '하_', '필요했을', '필요하겠어요', '피하', '피크닉_', '피부_', '풀어보세요', '풀렸', '표현하는_', '표현하', '포기', '펴', '퍼', '팅', '티를_', '트라우마', '토닥', '터놓고_', '태어났', '탔', '탁', '키우고_', '키가_', '크리스마스', '케_', '케', '커지', '카페에서_', '칭찬해', '침대', '친구라고_', '친구들', '친구도_', '치는_', '취미생활', '취미', '출퇴근', '축하해', '축하합니다', '축복', '최악', '초콜릿_', '철벽', '처음에_', '책을_', '찼', '참아보세요', '참다', '참는_', '착한_', '차이가_', '차례', '찍었', '찍', '쯤_', '쪼', '짝사랑하', '짝', '집착해', '질리', '질려', '진실', '직접적이든_', '지마', '지냈', '지내는_', '지나갔', '지갑_', '증오', '증거를_', '줬는데_', '줘야_', '줘서_', '중이', '중요', '중국어_', '준비하고_', '준비하', '죽고_', '주말_', '주기적으로_', '주_', '좋을까요', '졸업_', '족', '조건', '제자리', '제게_', '정해보세요', '정이_', '정의', '정말로_', '정리되', '정류장에서_', '정도는_', '접어두', '전화가_', '전혀_', '전공', '적게_', '잡으세요', '잡았', '잡는_', '잘해주', '잘생', '잘못인_', '자체로_', '자존심', '자세히_', '자세', '자면_', '있었어', '있었나요', '입지', '입이_', '입고_', '읽씹', '일주일이', '일인', '일이죠', '일부터_', '일부', '일기', '인정하', '인정', '인연이', '인스타', '인기_', '인간_', '인가요', '이제라도_', '이유는_', '이야기해도_', '이불', '이별했', '이름', '이길_', '이고_', '이겨내', '이것', '의지해', '음악', '음_', '은것', '유효기간', '유학', '위로봇입니다', '위로_', '위로', '웃는', '울적', '우연히_', '우선_', '우리가_', '욕심', '왜이', '와의_', '올해_', '올랐', '오빠_', '오빠', '오래된_', '오는', '예쁘', '연휴', '연애하', '연습하', '연습이_', '연락처를_', '연락처_', '여행은_', '여자친구한테_', '여자는_', '없애는_', '업무_', '엄마한테_', '얼마', '억지로라도_', '어찌', '어이', '어떤', '약이', '약을_', '야겠지', '애매', '앞이', '앞두고_', '았어', '앗', '알아_', '알바하', '알기_', '않았을', '않았나봐요', '안에', '안되는데', '아픔의_', '아픔을_', '아프지_', '아침이_', '아직은_', '아요', '아쉽', '아빠가_', '아닐', '아니지만_', '아니었', '아니네요', '아깝', '아기_', '쓸', '쓴', '쓰는', '썸타', '썸에서_', '쌓', '싶다고_', '신청_', '신기', '신경이_', '신경을_', '신경쓰', '신가봐요', '식었', '시작하세요', '시원하게_', '시는_', '시간에_', '습관_', '습관', '슬프', '쉬운', '쉬어가', '술만_', '술마시', '송', '솔직', '속_', '소원', '소비_', '소개_', '셨어요', '셨군요', '셔야', '셔', '셀프', '성장', '성공하길_', '설렘', '선택이', '선배가_', '선물로_', '석해', '석', '생각해봐요', '생각해도_', '생각할까', '생각나고_', '새출발', '상처받지_', '상의', '상대가_', '상담을_', '살지', '살아요', '살아야_', '살기_', '사회생활', '사진', '사이에서_', '사랑이었', '사랑에는_', '사랑에', '사람이라면_', '사람이니까요', '사내', '사귄_', '쁜', '빠를수록_', '비싼', '비슷한', '비슷', '비밀', '비교하지_', '불안해', '분이', '북', '부족한_', '부려', '부담스러워', '부담스러운', '부담_', '봐서_', '보지', '보이네요', '보여주세요', '보여요', '보단_', '보낼_', '별로라고_', '별거_', '변한', '벚꽃_', '벌_', '번호를_', '버텨보세요', '버스_', '버렸네', '밥이', '밤에_', '밝혀보세요', '받아들이기_', '반장', '바빠', '바라지_', '미친듯이_', '미친', '미안해', '미련은_', '미련없', '뭐라_', '물어봐요', '문제로_', '무시해', '무시하는_', '무시', '무뎌지', '무뎌', '무기력', '못자', '목_', '모르는게_', '모르게_', '모든게_', '모두', '멍청', '멍', '멋져요', '먼저', '먹으', '맨', '매주_', '맞을거예요', '맞아', '맞는지_', '망이', '맛난_', '말해줘', '말해주', '말해야', '말해도_', '말하고_', '말투가_', '말자', '말아야', '말씀하세요', '많으면_', '많아서_', '만해', '만큼', '만들_', '만드', '만남이었길_', '만남_', '만나보', '만나기', '마침표', '마음인', '마음과_', '마련', '른', '론', '려보세요', '러워', '래요', '라이', '라니', '라는', '떨어져', '떡', '떠났', '떠나보세요', '떠나고_', '딴_', '듯합니다', '들지', '드시', '드라이', '드라마_', '두달', '두근', '될거예요', '된다고_', '되었네', '되었나봐요', '되어가', '되기_', '동료가_', '동거하', '동거_', '덤', '대해', '대학', '대체', '당연하죠', '답장이_', '답답한_', '답답하네', '담을_', '달달한_', '다음에_', '다음부터는_', '다보면_', '다르', '늦은_', '늦', '는데도_', '느라_', '느낌_', '느끼는_', '누구에게나_', '놀죠', '놀러가고_', '놀러가', '노력하면_', '노는_', '넘어', '너는_', '냥', '냐고_', '냉정', '냉장고_', '낸', '내일도_', '남자한테_', '남자애', '남들이_', '남겨', '날인', '난방', '낙', '나지_', '나온다', '나온', '나아지', '나쁜', '나쁘', '끝에_', '끝도_', '꿈은_', '꿈에', '꿈같', '꽤_', '꼈', '께_', '깨달음', '깜빡', '깎', '까봐_', '김', '길게_', '기울이', '기울여', '기억해', '기억하', '기억을_', '기분전환을_', '기를_', '기다리지_', '기다려주세요', '기다려_', '기네', '근처_', '그분이_', '그만하고_', '그를_', '그렇죠', '그럴', '그런', '그러게요', '그랬나봐요', '그녀와_', '그녀에게_', '권', '궁금', '굴', '구분', '괴로워', '괜찮아지', '괜찮다', '관계_', '공허', '공무원_', '고칠_', '고있', '고백해', '고백하는_', '고백하고_', '고민이', '고르', '계획을_', '계속', '경험이_', '결혼적령기', '결혼식', '결정이었을텐데_', '결정이었', '결정이', '결정은_', '겨우_', '겠', '것처럼_', '것일', '것들이_', '것같아', '검색', '걸릴_', '걸리', '걸까요', '건조', '건데_', '거짓말', '거울_', '거요', '거라고_', '거기까지였나봐요', '거기까지', '거같아', '같은', '같아서_', '같다고_', '갔어', '간접적이든_', '간절', '간대', '가치관', '가치', '가야', '가봅니다', '가만히_', '가라', '가능해', '가능합니다', '8년_', '6일', '3달', '3년_', '3년', '1달', '15', '힘들지도_', '힘들었', '힘들고', '힘들거예요', '힘든거', '힘드신가봐요', '힘껏_', '힌', '흥미를_', '흘러', '흐르고_', '휴식을_', '휴식', '휴가가_', '휴가_', '후폭풍', '후유증이_', '효도', '효', '회사에는_', '회사에_', '활', '확실', '확', '화이트데이', '화나', '혼자인', '혼자서도_', '혼술', '혼란스', '형이_', '헷갈', '헥', '헤어진지', '헤어지세요', '헤어지는게_', '헛', '행복했', '행복해보여', '행복해_', '행복할까', '행복하길_', '했을_', '했겠어요', '해지는_', '해줄_', '해주면', '해주고_', '해져', '해보고_', '합격', '함께하', '할지_', '할래', '할때', '할거', '한테', '학점_', '학원을_', '학생', '학교에서_', '하루종일_', '하루에도_', '하루에_', '하루가_', '하려고', '하든_', '하니까요', '하길_', '하긴_', '하기', '하겠죠', '필요한가봐요', '피자_', '피부가_', '피곤한가봐요', '프로필', '품', '풀리', '푸는_', '포기해야', '포기하는_', '평온', '편할', '편지_', '페북_', '페', '팩', '파먹기_', '티내', '티가_', '특별한_', '퇴근길', '털어', '태어나', '탈퇴', '탈이', '타던_', '타다가_', '키워', '클_', '클', '크리스마스_', '크기', '코가_', '켜', '커플_', '칼로리', '칼', '치유', '치워', '치열', '치과에_', '취업_', '취미_', '충전하세요', '충전기', '충전', '축제', '추천해줘', '추천합니다', '추운', '추억은_', '추억으로_', '최선을_', '최대한_', '최근에_', '체육대회', '첫인상', '처음에는_', '처음부터_', '책임', '창업', '참지_', '참을', '참았어', '차분하게_', '차리세요', '차리', '차단하', '차근차근_', '찜질방', '짧지_', '짝사랑인', '짝사랑만', '짜장면', '짜', '집착하는_', '집착하', '집중하세요', '집중이_', '집앞', '집안일을_', '짐_', '질린', '진행', '진정으로_', '지하', '지키', '지옥', '지세요', '지면_', '지말고_', '지르고_', '지났', '지나갔길_', '지나간_', '지긋', '지금보다_', '지금', '지겨워', '증거', '즘', '즐기', '줬으면', '중요할_', '중요하겠', '중독', '중고', '중2', '줄여보세요', '준비해', '준비하세요', '준비중', '죽겠', '주택', '주차', '주저리', '주면서_', '주말이네', '좋지', '좋을거', '좋은데', '좋았', '좋아할거예요', '좋아한다고_', '좋아하나', '좋아질_', '좋습니다', '좋겠', '좋게_', '존중해', '조용', '조급해', '졌다', '정하', '정적', '정리해야', '정리해보세요', '정도로_', '정답', '정규직_', '점은_', '점심시간', '점심_', '전환_', '전화하는_', '전역', '전세', '전남친이_', '전과', '적인', '적이_', '재회하', '재회를_', '재밌다', '재미있어요', '장점', '장거리', '잤', '잘못이', '잘못된_', '잖아', '자취', '자신감_', '자기도_', '자격증_', '잊혀', '잊지', '있지', '있을지_', '있어야_', '있대', '있나_', '잃', '일요일', '일들이_', '일단_', '인턴_', '인정받고_', '인이_', '인상이_', '인상', '인거_', '인간', '인가봅니다', '인가_', '익숙해지지', '익숙해지', '익숙해', '이용해주세요', '이었', '이야기해_', '이사_', '이뻐', '이별했습니다', '이벤트', '이뤄', '이루', '이란_', '이라니', '이라는_', '이라', '이기적이', '의지', '의욕이_', '의외로_', '의사', '의미있는_', '의미를_', '의미가_', '응원해요', '음식_', '을거라_', '으니_', '육', '위험해', '월요일', '월급이_', '월급_', '월급', '원해', '원하', '워요', '워_', '웃으', '웃어보세요', '운을_', '운명이_', '운동으로_', '우울하', '우니까_', '우는_', '용서', '용기내', '욕_', '요리', '요금_', '요구', '외롭', '왕따', '왔는데', '와요', '옷이_', '올려달라고_', '오히려_', '오해', '오토바이_', '오랜_', '오락가락', '오늘부터_', '예전', '예민한가봐요', '영원한_', '였을', '열어', '연애할', '연애하고_', '연애의_', '연애였', '연습해보세요', '연락해서_', '연_', '여행이_', '여자와_', '여자들이_', '여유', '여러', '여드름_', '여기까지_', '에서도_', '에서', '었는데', '었나', '없어졌', '없는게_', '없겠지', '얼마든지_', '얼굴이_', '언제든_', '언제까지_', '어플_', '어젯밤', '어장인', '어색해', '어보', '어디로_', '어디가', '얘기를_', '얘기', '양해를_', '약해', '약속을_', '야할_', '앞머리_', '않지만_', '않을거예요', '않다', '않는게_', '않겠어요', '않겠', '안타깝네요', '안주', '안좋아', '안전_', '안전', '안되나', '안녕히_', '안녕하세요', '악', '아프고_', '아프겠', '아파트', '아주_', '아서_', '아물', '아련', '아님', '아닌가봐요', '아니지', '아니었나', '아니랍니다', '아니고_', '씻고_', '씻', '쓴_', '쓰지_', '쓰이', '썼어', '썸일_', '썸만_', '쌩얼', '쌍', '싸우면서_', '싸우면_', '싸우', '싶었', '싱', '심호흡해보세요', '심한가봐요', '심하네', '심하겠네요', '심으로_', '심경의_', '싫어하지_', '싫다고_', '실수할_', '실수한', '실수하지_', '실례', '실내_', '신하', '신고하세요', '신경쓰는_', '시작해도_', '시원', '시간이겠네요', '시_', '습관이네요', '습', '슬픔', '슬쩍_', '스팸_', '스트레칭을_', '스트레스', '스타일이_', '스키_', '스러운_', '슈퍼', '쉽진_', '쉽', '쉬어야_', '술먹고_', '순간이_', '수영', '수염_', '수다_', '수건_', '쇼핑_', '솔직하', '손해', '소심해', '소식이_', '소개시켜', '소개', '셨나요', '셨', '셀카_', '센스있는_', '세상에는_', '성공할_', '성공을_', '설명', '선택일거라_', '선택_', '선생님이_', '선생님', '선배', '서로가_', '생각지', '생각날_', '새학기_', '상처는_', '상이', '상대방도_', '상관없어요', '샀', '삼겹살_', '삶의_', '살아가', '살면서_', '살면_', '살려', '살거', '산_', '사회', '사주', '사업_', '사수', '사보세요', '사랑할수록_', '사랑하기', '사랑만', '사람만_', '사나', '사귀자', '사귀어도_', '사귀면_', '사과', '뽑기_', '뽑', '빠졌', '빠른', '빠르', '빌려보세요', '빌려', '빈', '비밀번호_', '붙여보세요', '불타', '불면증', '불만', '불공평해', '불가', '분위기', '분노', '부터', '부탁', '부지런하시네요', '부족한가', '부부', '부딪', '부드럽게_', '봤는데_', '봤네', '복잡한가', '복잡한_', '보았', '보면서_', '보다는_', '보다', '보는', '보네', '보냈어', '별로야', '변하지_', '변하는_', '변덕', '벗어나세요', '법이', '범', '버텨', '버린_', '버렸어', '배워보', '배우면_', '방학이', '방식', '밟', '발표', '발이_', '발목_', '받지', '받아보는_', '반에_', '박_', '바쁘면_', '바라는_', '바디', '바닥', '바뀌', '바꿔야', '바꿔', '바꿀까', '밑', '미팅', '미칠', '미안', '미래에_', '미끄러', '뭐하냐', '물이_', '물어', '문제는_', '무작정_', '무엇이_', '무엇을_', '무릎', '무거워', '못했나봐요', '못해_', '못하면_', '못하는', '못하겠', '몰랐어', '목표', '모자라', '모임', '모으', '모아서_', '모_', '명절_', '면요', '면서', '면도', '며칠_', '멍_', '멋지게_', '멀었', '먹지', '먹으면서_', '먹는', '먹기', '먹고', '머리는_', '매일매일_', '매번_', '매력이', '맞지', '망했어', '맛있어요', '말해봐요', '말해_', '말하지_', '말투', '말라', '많이', '많은가봐요', '많아지', '많네', '만이', '만의_', '만들려고_', '만남과_', '만날', '만나는데_', '만나길_', '막차_', '마주치', '마음이라도_', '마련_', '링_', '린_', '루', '로부터_', '로그', '렸나봐요', '력이_', '려면_', '려구', '랑이', '람', '란다', '라면', '뜻대로_', '똑같', '떠보는_', '떠난', '때려', '딸기_', '등_', '들으', '들여보세요', '들었', '들어줄', '들어서_', '들어도_', '들어_', '들면_', '듣는데_', '득템', '드시고_', '드려보세요', '드는', '뒷', '뒤에서_', '둬', '둥', '둔_', '두번째_', '두달_', '두근거리겠어요', '된다', '되지', '되었는', '동호회_', '동생이', '돌려', '돋', '독하', '도전해_', '도될까', '도는_', '도네요', '데이트가_', '덜할_', '던게_', '더러워', '대화가_', '대하', '대출_', '대중교통을_', '대우', '대답', '대단', '당하', '당연히_', '당연한', '당신에게', '답답하', '담하', '담배', '달리', '달라지는게_', '단순', '다툼', '다양하게_', '다양', '다되가', '다가왔', '다가오', '다가가는_', '닝', '능력이', '능력을_', '는지', '는다고_', '는걸_', '느낄_', '느껴보', '눅', '누구도_', '놓으세요', '높아', '놀아줘', '놀러', '놀다_', '놀까', '놀_', '노력하고_', '노력하', '노래를_', '넘었네', '너무하', '너덜', '냄새_', '내려_', '내고_', '났나봐', '낫겠지', '남자친구한테_', '남자들_', '남자들', '남아', '남사친이_', '나한테만_', '나을지도_', '나을', '나온_', '나오세요', '나에게_', '나아질_', '나빠', '나누', '나가기_', '끼리_', '끝인가', '끝냈', '끝났으면', '끊어', '끊는', '끊', '꾸며보세요', '껴', '꺼내', '깨졌', '깨끗하게_', '깜', '깊게_', '김치', '길에서_', '길거', '긴다', '기회', '기운_', '기술', '기분이', '기분은_', '기도', '기대하', '기대가_', '기다려야', '기념일', '기간이_', '금연', '그저_', '그분의_', '그분에', '그만두', '그럼_', '그럴지도_', '그럴만_', '그런거', '그러는_', '그때', '그대로', '귀엽게_', '귀를_', '궈', '궁금할', '군침이_', '구하', '교회_', '괴롭게_', '괴로', '괜찮지만_', '광', '관이', '관심있', '관련', '과식', '공허함이_', '공통_', '공통', '공시_', '공부하기_', '곱', '곰곰히_', '고쳐쓰는_', '고쳐', '고싶', '고백했', '고민하게_', '고기', '고고', '경험', '경우도_', '경우가_', '결혼이', '결정할_', '결정_', '결과_', '결_', '견디', '겨_', '게도_', '것만', '것들', '걸요', '걸어', '걷', '건강이_', '건가요', '걱정은_', '걱정되겠네요', '거울을_', '거였', '거라', '거둘_', '거겠지', '개월', '개강이', '개_', '같음', '강습_', '갔다_', '갔는데_', '감히_', '감정은_', '감수', '감당', '갈때_', '간질', '간단하', '각자의_', '가짐에_', '가을', '가사가_', '가리', '가득', '가늠', '가게', 'sns', '4일', '3일째', '30', '20', '1년이_', '10일', '0일', '힘이', '힘들었죠', '힘들까', '힘든데_', '힘든가봐요', '힘드시', '힐', '희망이_', '희망', '흘리', '흘러가', '흑역사', '휴가를_', '후회해도_', '후회해', '후회할까', '후회하기_', '후회없', '후회를_', '후폭풍은_', '후배', '후련해', '회_', '활용', '확인해', '확인', '홀', '혼내', '호칭', '현실과_', '헷갈리', '헬스장', '헤어짐이_', '헤어지는_', '헤어졌어_', '헌', '허전한', '향기', '행운을_', '행운', '했었', '했던거', '했나봅니다', '해줬', '해준', '해주는게_', '해졌', '해외여행', '해야할_', '해야돼', '해보려고', '함부로_', '함께할_', '함께한_', '할줄_', '할수록_', '할거예요', '한켠', '한창_', '한잔', '한순간', '한동안_', '한달하고_', '한달이', '한다는데_', '한계', '한걸까', '한가', '학기', '학_', '하지요', '하지도_', '하자', '하셨나', '하셔야', '하루하루_', '하는거', '하기로', '하고싶었던_', '하고싶어', '하고싶', '핑', '필요할', '필요한게_', '필요한가', '필요하다면요', '필요하다면_', '필름_', '피해를_', '피는', '피곤한', '피곤', '플라', '플_', '프로포즈_', '프로', '프라이버시', '풀려', '포근', '평소에_', '편하겠죠', '편안하', '페북', '패턴_', '팔아', '팀', '틈', '틀어', '틀린_', '특징', '퇴근하고_', '퇴근', '통장', '통이', '통보_', '토', '테니까요', '터지', '택시비_', '택배_', '택', '태어', '탕_', '탓', '타면', '타다_', '큰일이네요', '크시겠', '크겠', '쿨', '콩깍지가_', '코인', '켰', '케이스_', '컴터', '커피향_', '카톡이_', '카톡을_', '카톡으로_', '칠', '친구와_', '친구로', '친구들_', '친구는_', '친구네_', '치매', '치기', '층간소음', '츠', '취직할', '취직이', '출근하', '추천해', '추억에_', '추스', '촉', '초대하', '초_', '첫눈', '철_', '찾아온', '찾아오', '찾는_', '찬_', '착해', '착각이', '차이는_', '차이_', '차분', '차별해', '차갑게', '차가', '찍고_', '쫌_', '쫄', '짧게_', '짠', '짝사랑을_', '짝남에게_', '집안', '집니다', '짐을_', '질문', '진심이_', '지칠_', '지진', '지울_', '지로_', '지네요', '지내길_', '지났어', '지길_', '지금이', '지겠', '즐기면서_', '즐겨', '중요해', '중요한데_', '중국', '줄이', '준다면_', '죽었', '죽는', '주제를_', '주인', '주식으로_', '주변에서_', '주라', '주가_', '좋지요', '좋을텐데요', '좋으련만', '좋으', '좋았으면', '좋았던_', '좋았는데_', '좋았겠', '좋아했으면_', '좋아했는데_', '좋아해줬으면', '좋아한다는_', '좋아하지_', '좋아하는데', '좋아요_', '좋더라', '좋고_', '졸업', '존재를_', '조카_', '조절을_', '조심해야', '졌어요', '제주도_', '제안', '정확하게_', '정신적', '정리하려', '정리하고_', '정리될_', '점에서_', '전환', '전화해보세요', '전공_', '적일', '적이에요', '적을', '적당', '쟁취하', '쟁이', '재회는_', '재밌어', '재밌는_', '재미있는', '재미있게_', '재미없어', '잘해주세요', '잘해주는_', '잘할', '잘하니', '잘하는게_', '잘하는', '잘자', '잘살', '잘못이_', '잘못을_', '잔인', '자책', '자존감을_', '자유로워', '자연스', '자신으로_', '자신과_', '자리_', '자도_', '잊혀질_', '잊혀지지_', '잊혀지기도_', '잊지못', '잊으려고', '잊었', '잊어야_', '잊는다는_', '있을게요', '있으신가봐요', '있으니까_', '있었을_', '있었는데', '있는거_', '있는거', '있는', '입에_', '입어도_', '잃어버렸어', '일정', '일이었', '일이라', '일에', '일어나서_', '일어나는_', '일어', '일반', '일거', '인테리어_', '인정해주세요', '인정하고_', '인정_', '인연이었', '인연은_', '인생이죠', '인데요', '인다', '인내', '익', '이해할_', '이해하', '이틀', '이였', '이어나가', '이야기해', '이상형이_', '이상형이', '이상형은_', '이상형_', '이상한', '이쁜_', '이별후', '이별할', '이별하고_', '이별준비', '이별이란', '이름이_', '이러는', '이란', '이기적인_', '이겨내세요', '의자', '의미일까', '음이', '음악_', '은행', '은거_', '유행', '유지', '유부남', '유난히_', '윗', '위험하', '위_', '웠을', '원하는', '웃음', '웃겨', '울적해', '울어', '운전_', '운명적인_', '운명인가', '우연', '우산', '우린_', '우리집', '우니_', '욕해', '요즘은_', '외로움', '외국인인데_', '외국어', '왜그', '왔나봐요', '왔나', '완전', '완벽', '와닿', '옷을_', '올게', '올거', '옥', '오해하', '오셨', '오빠가_', '오려나', '오랜', '오라고_', '오나', '오겠', '예약', '예쁜', '예뻐지', '옆에서_', '영화관_', '였으면_', '였나봐요', '염색', '연하', '연인은_', '연인으로_', '연애하면_', '연애하는_', '연애인', '연락했는데', '연락해볼까', '연락할_', '엮', '여친이랑_', '여자친구를_', '여자인', '여자들', '여자도_', '여사친이_', '여름', '여기까지였', '여기_', '에만_', '었지', '었으면_', '없지만_', '없을거예요', '없을', '없애', '없다는', '없겠지요', '언젠가는_', '언니', '어필해보세요', '어쩔수', '어진', '어지', '어제와_', '어울릴', '어울', '어색한', '어머', '어른', '어렵죠', '어려울_', '어떻게해', '어떻게든_', '어떨', '어디에', '어디든_', '어깨_', '어가', '얘기해', '얘기하', '얘기_', '양말', '약속', '야해', '야경_', '야겠죠', '액션', '애매하네요', '알콩달콩_', '알아봐', '알겠', '안할_', '안하지', '안좋', '안될', '아픔이_', '아픔은_', '아플_', '아플', '아주', '아이스크림_', '아이돌이', '아보세요', '아무말', '아리', '아름다워요', '아름', '아닐까_', '아닌가요', '아닌가', '아니었을', '아니라는_', '아는데도_', '아껴주', '씌', '씁쓸', '쓸쓸', '쓸데_', '쓰레기야', '쏟아', '썸인_', '썸녀', '쌓인', '쌈', '싹', '싸웠', '싸우는_', '싶다는_', '십', '심호흡을_', '심장이_', '심심해', '심심', '싫어할', '싫어하', '싫어도_', '신혼여행_', '신중하게_', '신이_', '신발_', '신경쓰여', '신경써', '신가요', '식은_', '식단', '시켜야', '시작해보', '시작이죠', '시골', '시계는_', '시간들', '습기', '습관이_', '슬프게', '슬퍼하고_', '스테', '스러워', '스러', '숨막', '술한잔', '술은_', '순수', '순간이었을_', '순간이네요', '수학여행', '수준', '수업', '수상', '솔', '손에_', '속은_', '속도를_', '소중', '소원을_', '소문이_', '소모가_', '소개해', '세월', '세상이_', '세상이', '세달', '세_', '성형_', '성장하', '성숙해', '성공하고_', '섬유유연제', '설렜', '선톡을_', '선택할_', '선택이길_', '선을_', '선에서_', '선물이', '서툴러', '서툰_', '서점에', '서운해', '서요', '서서', '서부터_', '생활_', '생일이네', '생일_', '생리통_', '생겼네요', '생겨', '생각해서_', '생각하기', '생각인', '생각으로_', '새해_', '상황이네요', '상황에', '상하', '상태인', '상처도_', '상사가_', '상메', '상대방에게_', '상대방에_', '살펴_', '살찐_', '살다보면_', '삭제하세요', '사이인데_', '사실이', '사실_', '사랑해요', '사랑한다는_', '사랑한', '사랑하나', '사랑이라', '사랑받고_', '사람인데_', '사람이었', '사냐', '사귀던_', '사귀다', '사귀는', '사과해', '사과하세요', '사겼', '삐', '쁨', '뻔했어', '뻐', '빨래', '빠지는_', '빚', '빌어요', '빌어', '빌려_', '비오는', '비난하지_', '붙잡으', '붙잡아', '불금', '분명_', '부여', '부리', '부디_', '부담스럽', '부담스러워할까', '부담스러워하지_', '봐야지', '봐봐', '봐보세요', '봇', '봄은_', '봄_', '볼게요', '복전', '복이_', '복이', '보자', '보이스피싱_', '보이네', '보며_', '보는건_', '보냈', '보내지', '보내보', '보고싶네', '보게_', '병원_', '변해가', '변덕스럽', '벽에_', '벽', '베터리', '벌고_', '번호', '번의_', '번씩_', '버텨요', '버스', '버림', '버리는_', '버려야지', '버려_', '배터리', '배려', '배달_', '배고프', '방문', '밤이', '밤_', '받아야_', '받아들일_', '받는', '반했', '반응이_', '반년', '반갑', '반가', '밖에서_', '밖', '바쁘', '바빠서_', '바빠도_', '바보같', '바르고_', '바뀌어', '바뀌게_', '바꿔보세요', '바꿀_', '믿음을_', '믿으세요', '믿었', '믿는', '미치겠어', '미치겠습니다', '미치겠네', '미안해하', '미안하', '미세먼지가_', '미련도_', '미래', '뭔_', '뭔', '뭐임', '물어보면_', '물어_', '물리적_', '물리', '물건', '물가', '문화', '문신_', '무의식', '무시하', '무서', '무색하', '무덤덤해지', '무너졌', '무관심', '못했던_', '못해서_', '못하는게_', '못잊', '못난', '몸에_', '목적', '목이_', '모쏠', '모른', '모르겠지', '모르겠네', '모르겠', '면허_', '면서도_', '메리', '메뉴_', '멀어진', '멀리_', '먼지가_', '먼지_', '먹자고_', '먹었는데_', '먹어야겠다', '먹기_', '머리카락', '매력', '맡겨보세요', '맞춰주', '맞춰보세요', '맞춰가', '맞춤법', '맞추세요', '맞았', '맞아요', '맞는거', '맞는', '망했다', '망한_', '망상', '맛집_', '맛_', '맘을_', '말했어', '말해보는', '말한_', '말하면', '말하는', '말하', '말아', '말씀_', '말씀', '말로_', '말라고_', '말걸', '많겠', '만들어서_', '만들기', '만남이_', '만남에_', '만나자', '만나요', '만나러_', '만나고싶', '마지막이', '마주하', '마주치는_', '마주쳤', '마주쳐보세요', '마주', '마자_', '마음정리', '마음인가봐요', '마음만_', '마음가', '마실까', '마실', '마셔도_', '마무리_', '마디', '리폼', '름이_', '름_', '료_', '롱', '롭게_', '록', '렸을', '렸으', '려지', '렌', '럼', '런', '란게_', '락', '라서_', '띄', '뛰어', '똑똑해', '똑같아', '떨쳐', '떨어지', '떠오르는_', '때예요', '때문일_', '때매_', '땀', '딴', '따지', '따르', '등을_', '등산', '듯한_', '들으면_', '들어주세요', '들어왔어', '들어올', '들까', '들겠', '듣기_', '드시면_', '드립니다', '드려', '드레스', '드라마', '뒷담화', '뒤통수_', '두셨네요', '두번_', '두려워하지_', '두려움을_', '되어야_', '되는데_', '되는', '되게_', '되가', '됐습니다', '됐나', '돼서_', '동생한테_', '동물이', '돌아보', '돌아가고_', '돈은_', '도전하는_', '도와', '도서관', '도대체_', '데이', '데려', '던데', '더욱_', '더니', '대화로_', '대해보세요', '대하는', '대로', '대_', '당황했겠어요', '당당', '답은_', '답답한', '답답하다', '답답', '담긴_', '달째', '달려있', '달래', '달라질', '달라진게_', '단톡', '단둘이_', '다했', '다짐', '다정한', '다이어트', '다운_', '다면', '다리', '다를', '다르죠', '다니는_', '다니_', '다녀와', '님_', '늦잠', '늦는_', '느끼', '눈은_', '눈에서_', '누구랑_', '누구_', '놔_', '놓지_', '농담', '농', '놀이동산', '놀아_', '놀아', '녹', '노후', '노트북_', '념', '년_', '넘었는데', '넓', '너한테_', '냐구', '냉', '냈어요', '냈어', '냈', '냄새', '낼', '내일', '내릴', '내내_', '내게_', '낭비하지_', '났는', '났네', '납니다', '남편이', '남친이랑_', '남자친구에게_', '남자친구를_', '남자인', '남자애한테_', '남자분들', '남자도_', '남이', '남은_', '남았나봐요', '남아있', '난거_', '나타나', '나오는', '나약', '나아졌길_', '나라', '나는데_', '나는', '나날', '나게_', '나갔어', '나가야_', '나가볼까', '낀', '끝인거', '끝이라', '끝내는', '끝내고_', '끝날_', '끗', '끓여', '끊기', '꿈이', '꿀_', '꾼', '꼼꼼', '꺼_', '깔끔하', '깔끔', '까먹었', '깊었', '길은_', '기한', '기지', '기적', '기원합니다', '기억의_', '기억에서_', '기름', '기댈_', '기대하지_', '기대를_', '기다림', '기다', '기간_', '기간', '긍정적', '급하', '긁었어', '극적', '극복_', '그리울', '그럴수', '그런건', '그런가', '그러게_', '그대로의_', '그가_', '귀찮은', '권태기가_', '군인', '군대', '구해보세요', '구속', '구경_', '교회', '괜한_', '괜찮다면_', '관리해', '관리하는_', '관계에', '과정이에요', '과일', '과의_', '과에', '공간', '공_', '곳이', '곳을_', '곤', '고하', '고백할까', '고백할', '고백한', '고백은_', '고민이네', '고마운', '고가_', '계획', '계절이_', '계절이', '계절_', '경험해', '경제', '결혼한', '결혼하는데_', '결혼에', '결국', '견디기', '견디고_', '격려', '겟', '게임하', '게임을_', '것입니다', '것만_', '것들을_', '걸리겠지만_', '걸렸', '걱정할_', '걱정하', '걱정된다고_', '거짓말이', '거지같', '거절의_', '거에_', '거르세요', '거니', '거는_', '개인_', '개인', '개월_', '개념', '갚아', '같이', '같았', '갖자', '갖', '강렬한_', '값_', '갑작스럽', '감하', '감정이', '감이_', '감을_', '감싸', '감성', '감사', '갈거', '간의_', '간식', '각자', '가치관이_', '가족_', '가져가', '가져_', '가자', '가야돼', '가야겠죠', '가야겠', '가야_', '가스', '가보', '가능한', '가능하겠죠', '가능하', '가는게_', '가나', '가까워', '가까운_', '가까', 'ㅋㅋ', '…', 'sns를_', 'SNS', '9년', '4년_', '1주일', '1년째', '100', ' .  ?', ' .  .  .  .  ', '  .  ', '힘들지만', '힘들었을', '힘들기', '힘들겠죠', '힘들게', '힘들거', '힘든가', '힘드시겠어요', '힘드니까요', '힘_', '히는', '희생양', '희망은_', '흥', '흡', '흠', '흘려보세요', '흐른_', '흐르는_', '휴학', '휴식도_', '휴_', '훔쳐보', '후회하는_', '후회만_', '후련하니_', '후련하네', '후련', '회의', '황당', '활동', '환승이별_', '환기', '확인해달라고_', '확인하는_', '확실해지면_', '확률', '화해', '화장품_', '화장이_', '화장실', '혼자해도_', '혼자서_', '혼자를_', '혼수_', '혹', '호의를_', '호랑이보다_', '형편대로_', '형_', '혔어', '현타', '현실에', '현실_', '현금이', '현금영수증_', '현금', '혀지', '혀_', '헷갈리네', '헬스장에_', '헤어짐은_', '헤어짐에', '헤어지기_', '헤어지고나', '헤어졌으', '헤어졌다', '헤어져야하', '헤아릴_', '헛헛하', '헛헛', '허전함', '허전할', '허무하네', '허무', '허리가_', '허리_', '허락', '향이_', '행복해질_', '행복하세요', '행복이', '행동이_', '행동은_', '행_', '했나봐', '했나', '했길_', '핸드폰이_', '해줬어', '해줄까', '해야할', '해야하는', '해야겠지', '해야겠죠', '해야겠네여', '해서', '해봤는데', '해봤', '해보는', '해로', '해드세요', '해드릴게요', '해달라', '해결될_', '해결되길_', '핫', '합리적인_', '함께하고_', '함께도_', '함_', '할지', '할수있', '할까봐', '한푼_', '한테도_', '한약', '한심해', '한숨만_', '한숨', '한번쯤', '한번만_', '한번더_', '한바퀴만_', '한듯', '한대', '한답니다', '한국도_', '한강_', '한가지만_', '한가봅니다', '학원', '학생이', '학벌', '하지말고_', '하우스웨딩', '하아', '하셨군요', '하루하루가_', '하루는_', '하려면_', '하라고_', '하라', '하다보니_', '하다니', '하는걸_', '하느냐에_', '하나죠', '하고있', '하고싶은데_', '하겠어', '하겠', '필요해보여요', '필요하지', '필요하겠', '필요없', '필수', '필기', '필_', '피해만_', '피하는_', '피부관리', '피로', '피곤했나봐요', '피곤하겠', '픈_', '픈', '프로포즈해보세요', '풍_', '풋', '품이_', '품_', '풀어야', '표현해주', '표현해보는_', '표현하지', '표현하기', '표현이', '표정_', '폰이_', '폭식', '폭력', '포장하는게_', '포맷해보세요', '포기가_', '포근한_', '평소_', '평소', '편하고_', '편이', '편의점_', '편으로_', '편안해', '페메_', '펑', '팬', '패턴', '패션', '패', '판단되면_', '판_', '팍팍', '파도가_', '파도_', '팁', '티나나', '틀리는_', '트를_', '통해_', '톡이_', '텔', '테니', '텁', '털', '터질', '택시_', '택시', '태연', '탔어', '탈모', '타인', '타러_', '타는데', '타나_', '킨_', '키울_', '키우는_', '키스', '킁킁', '클럽에서_', '큰', '크리스마스에', '콩깍지_', '콜록', '케익', '컸', '컷', '컴퓨터가_', '컨트롤', '컥', '커피는_', '커피가_', '커플링_', '커서_', '카톡할', '카드', '칭찬해주고_', '칭찬이네요', '칭찬_', '칭찬', '침묵', '친해질_', '친해지는게_', '친해지는', '친척', '친절한', '친구인데_', '친구에', '친구라면_', '친구들한테_', '친구들을_', '치지_', '치맥이', '치마', '치료하세요', '치료_', '취해서_', '취직하면_', '취미네요', '충전해', '충전하', '춥네', '출해', '출발', '출근_', '출_', '춘', '축하해주세요', '축의금_', '추적', '추석_', '추가', '최저', '최악의_', '최신_', '최고의_', '촬영', '총회', '초록', '초기화', '쳤어', '쳐_', '체적으로_', '체인', '청춘', '청약_', '청소하세요', '청소를_', '청소_', '청결', '척하는', '척하', '처리', '처럼', '챙기세요', '챙겨주면_', '챙겨드시거나_', '채워질_', '채워보', '찾아오는_', '찾아오네', '찾아야', '찾아봐요', '찾아갔', '찾아가는', '찾아가_', '찾기', '참석하는', '착하', '착잡하', '착각하', '차인', '차였는데', '차단하는', '차곡', '찢어지', '찍는_', '찌질한_', '쭉', '째깍', '짱_', '짱', '짰', '짧죠', '짧은', '짧아', '짠하고_', '짝사랑에', '짝녀를_', '짜증날_', '짜증나네', '집착인', '집에서도_', '집에', '집어', '질투하', '질질_', '질뻔', '질러보세요', '질때', '질거_', '질거', '진정하', '진정', '진실된_', '진리', '진도', '직접적으로_', '직전', '직업', '직구', '지하철에_', '지켜보는', '지칠만_', '지친', '지쳐서_', '지쳐가', '지진시_', '지지', '지적', '지저분해요', '지웠어', '지울', '지우는', '지우고_', '지압', '지식', '지속', '지루해', '지낼_', '지낸', '지나봐요', '지나면_', '지기_', '지금처럼', '지금의_', '지금부터_', '지극히_', '지각', '증인', '증명', '즐기는_', '즐겁게_', '즐거울_', '쥐', '줘요', '줘야', '중인', '중이야', '중요하니까', '중독인가', '중간에_', '줌', '줄일', '줄어들_', '줄어', '준비할_', '준비하면', '준비하는데_', '준비하느라_', '준비하기는_', '죽을거', '죽을', '죽어도_', '죽겠다', '주의하세요', '주워', '주변', '주물', '주름살', '주려고', '주량', '주고', '죄가_', '좌절', '좋음', '좋을지_', '좋을지', '좋을거_', '좋은점', '좋은거_', '좋으시네요', '좋으니', '좋았을', '좋아해주', '좋아한대', '좋아하시는구나', '좋아하시', '좋아하는건', '좋아하는', '좋아하나_', '좋아지는_', '좋아지고', '좋아졌어', '좋아졌', '좋아서_', '좋아보', '좋대요', '좋네요', '좋긴', '종지부', '종료', '종교의_', '종교', '졸업하는데_', '졸업식에_', '졸린', '존중해주세요', '존중하고_', '존재_', '조절_', '조심히_', '조급해지면_', '조급하', '조가_', '조_', '졌으면_', '졌나봐요', '져서', '져도_', '제정신', '제자리걸음', '정해져', '정해', '정정기간을_', '정장_', '정신차리세요', '정신차리', '정신이_', '정신없이_', '정신건강에_', '정성', '정리해_', '정리하세요', '접적', '접어야', '접는게_', '점을_', '점심시간에_', '절한_', '절친', '절약해', '절약되겠네요', '전화해', '전해_', '전할', '전학', '전하지_', '전여친이', '전여자친구', '전에', '전까지', '적응해야겠네요', '적극적이', '저음', '저만', '저마다의_', '저녁에_', '저녁', '재회했', '재인가', '재밌을_', '재밌는거_', '재밌겠어요', '재미있어', '재미있나봐요', '재미없', '재가', '재_', '장해', '장학금_', '장애_', '장난인', '장갑', '잡히', '잡할', '잡으', '잡아보세요', '잡아도_', '잡아', '잡념', '잠재력을_', '잠들', '잠깐', '잘해야_', '잘하면_', '잘지내고', '잘지내', '잘생겼어', '잘못했', '잘못한', '잘못입니다', '잘가', '잖아요', '잔하네', '잔소리', '작동', '자체만으로_', '자존감_', '자제', '자장면', '자장가', '자야지', '자신은_', '자신만', '자리에_', '자를_', '자르', '자랑', '자라', '자다가_', '자다', '자는', '자격증', '자격', '잊혀질까', '잊혀져', '잊어버리', '잊어가는', '잊어_', '잊고싶', '있으세요', '있으', '있었을지도_', '있던_', '있더', '있답니다', '있는걸까', '있냐고_', '있군요', '있겠다_', '있거나_', '잇몸약_', '잇몸', '입학', '입장', '입을까', '입으세요', '입는', '입냄새', '입_', '임용_', '읽어', '일해', '일하면서_', '일인지_', '일어날_', '일어나세요', '일어나면_', '일시적', '일방적', '일로_', '인터넷', '인지시켜', '인줄', '인정해야', '인정받', '인연인', '인생의_', '인생에서_', '인맥이_', '인내할_', '인기', '인공지능에_', '인걸', '인건가', '인거', '익숙해질_', '익숙해져', '익숙함', '이해해보세요', '이해하기_', '이해하고_', '이해못', '이해를_', '이제서야', '이자_', '이유로_', '이왕이면_', '이예요', '이었을_', '이었으면_', '이었어', '이어폰_', '이어질_', '이어주는_', '이어보고_', '이어나가는_', '이어가', '이야기할', '이야기하는_', '이야기하고', '이야기하', '이스', '이성이', '이상적인_', '이사하', '이사를_', '이불밖은_', '이별하려', '이별하는_', '이별중', '이모티콘', '이면서_', '이름이랑_', '이뤄지', '이력서_', '이럴', '이라면', '이니까요', '이는', '이끌', '이기니_', '이겨야', '이겠', '이가_', '의지하', '의심해', '의식하는_', '의사_', '의견_', '응원해주', '응원할게요', '음이_', '음료', '을텐데', '을지도_', '을수', '을때_', '을까요', '을거예요', '을거_', '은지', '으아', '으로는_', '으려면_', '율', '유증', '유부녀', '위험할', '위험한_', '위해서예요', '위해서', '위로해줄', '위로해드리는_', '위로를_', '웹툰', '웠나', '월세', '월급은_', '월급날', '원해보세요', '원한다면_', '원치_', '원인이죠', '원동력이', '웃으면서_', '움직이세요', '움직이', '울었', '울고', '운전', '운이', '운동화', '운동해보세요', '운동할_', '운동하세요', '우정이', '우연이_', '우스', '우선이', '우산에_', '우고_', '용서하고_', '용량_', '용_', '욜', '욕하고_', '요일_', '외출하', '외부', '외롭고_', '외로움을_', '외로', '외_', '왠지_', '왜이렇게_', '왔나봅니다', '완', '와플_', '와인_', '와야', '와도_', '옷이요', '옳은', '올리', '올거예요', '오해가_', '오바', '오랜만', '오래오래_', '오디션_', '오니까_', '오늘이에요', '오길_', '오게', '오_', '예의일_', '예상', '예쁘다', '예뻐질_', '예비', '예민한_', '예민', '예능', '예감은_', '예감', '옆', '영어', '영양제_', '영상', '영_', '였는', '였나요', '였나', '염탐하지_', '염색을_', '열흘', '열받', '연인이', '연인과_', '연이', '연애해', '연애하는데_', '연애중', '연애세포', '연습해', '연속이', '연속', '연상', '연락해봐요', '연락해보는_', '연락해보', '연락할까', '연락하라고_', '연락하는게_', '연락하고싶', '연락이었', '연락이라도_', '연락왔어', '연락두절돼서_', '연락도_', '역할', '여행이네요', '여행이', '여친에게_', '여쭤보세요', '여지', '여자에게_', '여자로_', '여사친이', '여사친', '여름_', '여러명', '여_', '엠티_', '에너지를_', '에너지가_', '었을', '었으면', '었습니다', '었네요', '었나봅니다', '었길', '엇갈', '없지요', '없이', '없으니까요', '없으', '없어졌어', '없어_', '없애주세요', '없대', '없답니다', '없는지_', '없는걸까', '없는걸', '없는거_', '없고', '없겠', '없거', '엄마아빠', '엄마랑_', '엄마', '엄', '얼었', '얼굴에_', '언제가', '언니랑_', '언_', '어흥', '어플을_', '어플로_', '어플', '어찌해야_', '어쩌면_', '어쩌', '어이없', '어울리', '어색해졌', '어색', '어머어머_', '어리석', '어리게_', '어리', '어렸을때', '어렵다', '어렵겠', '어렵', '어떡함', '어떡하죠', '어떡하', '어떠세요', '어디있', '어둠에서_', '어느정도', '어느새_', '약간', '야하는', '야근이', '야경이_', '야경', '야겠어', '앨', '액정_', '액', '애프터', '애틋한_', '애정표현일_', '애의_', '애석하', '애매한_', '애기_', '앞에선_', '앞머리', '았는데_', '압', '알지_', '알아차리지_', '알아차려도_', '알아주', '알아볼', '알아보는_', '알아버', '알아두세요', '알아내', '알바생', '알뜰폰', '알까', '알고', '알겠어', '알게되', '않지요', '않을', '않았다', '않았길_', '않아_', '않는다', '않기', '않겠네요', '안해먹고_', '안한다', '안하면', '안하고', '안타깝게_', '안타까', '안타', '안좋은_', '안정적', '안이_', '안부를_', '안부', '안보여', '안받아', '안맞', '안된', '안되겠', '안됐네', '안됐', '안고', '안경테_', '아픔도_', '아프지', '아프니', '아프게', '아팠으면_', '아침이', '아침부터_', '아직이라면_', '아직도', '아직', '아이디_', '아울렛', '아쉬움이', '아쉬운', '아빠', '아부', '아무렇', '아마_', '아름답죠', '아려', '아들', '아닌거_', '아니네', '아니길_', '아니겠지', '아니_', '아는거', '아는', '아껴뒀나봐요', '씹어', '쓸데없는_', '쓰일', '쓰이는_', '쓰면서_', '쓰려고_', '쓰레기_', '쓰게', '썸타는', '썸타고_', '썸도_', '썸녀한테_', '썸녀가_', '쌓였', '쌓여', '싸웠어', '싸울', '싸운', '싸우고', '싶지', '싶을', '싶으면', '싶어하는_', '싶어_', '심해지는', '심한', '심이_', '심어볼까', '심심하다', '심남', '싫은데_', '싫은가봐', '싫은', '싫어해', '싫어졌', '싫어요', '실행', '실패', '실천', '실수했나', '실망하', '실력', '실거예요', '신청해', '신고하고_', '신고_', '신경쓰면_', '신경쓰고_', '신가', '식을_', '식습관', '식물', '시험', '시키는_', '시켜보세요', '시켜달라고_', '시지', '시작해', '시작할_', '시작하기_', '시어머니', '시선을_', '시선', '시면_', '시려', '시도해', '시도', '시나봐요', '시기네요', '시급', '시간표_', '시간인데_', '시간인', '시간이네요', '시간내서_', '시간과_', '승진', '습관처럼', '스트레칭', '스트레스의_', '스트레스야', '스트레스를_', '스트', '스테이크_', '스터디_', '스타트업에_', '스타', '스킨', '스키장_', '스마', '스릴', '스는_', '쉽지가_', '쉽지', '쉴_', '쉬어가도_', '쉬어', '순수하', '숙제', '수있', '수면양말', '수면', '수다', '수능', '쇼핑하고_', '솔직해', '손편지', '손톱이', '손으로_', '손가락', '속지', '속이는', '속으로_', '속시원', '속박', '소화가_', '소중합니다', '소중하', '소주_', '소유하는_', '소액결제', '소소한_', '소비', '소리를_', '소름', '소개팅하고_', '소개팅으로_', '소가_', '셨네요', '셨나', '셀프웨딩_', '센터', '세포', '세워보세요', '세우지_', '세어_', '세상', '성향_', '성향', '성적이_', '성적_', '성이에요', '성이', '성별을_', '성별', '성덕이', '성공한_', '성공적으로_', '성격_', '설렘이_', '설레는_', '설득', '설계_', '선풍기', '선택이었을', '선생님이', '선생님께_', '선물할', '선물하면_', '선물이네요', '서운한', '서운하겠', '서운하', '서운', '서류에서_', '생활이_', '생일이', '생이', '생생', '생긴다는_', '생긴다', '생겼을지도_', '생겼으면_', '생겼으면', '생겼어요', '생겼다', '생겼나', '생겨서_', '생각해주', '생각할수록_', '생각할게요', '생각한대로_', '생각한다', '생각한_', '생각하나', '생각하게', '생각처', '생각이네요', '생각들을_', '생각도_', '생각난다', '샌드위치_', '새신발_', '새벽_', '새가_', '상황인', '상처주', '상종하지', '상을_', '상대적', '상대방의_', '상대방', '상관없지만_', '상관없', '살쪄도_', '살아있음_', '살아가는', '살기', '살고', '산책을_', '산책_', '산이', '삭제해보세요', '삭제하는게_', '삭제하', '사표', '사탕_', '사춘기', '사줘', '사줄', '사정을_', '사전', '사자', '사이로_', '사이라', '사이_', '사야_', '사생활이_', '사먹', '사로', '사랑했으', '사랑할까', '사랑하니까_', '사랑하는지는_', '사랑인지_', '사랑인', '사랑이죠', '사랑이에요', '사랑이었으', '사랑이야', '사랑이라는', '사랑스러운_', '사랑스', '사랑받', '사랑니_', '사람한테', '사람하고', '사람친구', '사람이었나', '사람이야', '사람이라', '사람이다', '사람만', '사라질_', '사도_', '사니', '사는', '사귀어_', '사귀기', '사과할_', '사겨도_', '사겨', '쁠', '뿐_', '뿌린대로_', '뻑뻑해', '빵_', '빵', '빴', '빨리', '빡', '빠지면_', '빠르면_', '빙', '빈자리', '비행기표', '비하하지는_', '비정상이', '비정규직', '비워', '비용', '비싸요', '비세요', '비밀을_', '비밀은_', '비밀연애', '비만', '비교하면_', '비교', '비가오', '블록', '브랜드', '붙잡는', '붙이', '불효', '불편한_', '불편하겠죠', '불편', '불안하', '불안', '불쑥', '불러_', '불_', '분위기를_', '분에', '분담해보세요', '분_', '부탁드립니다', '부질없', '부족해', '부분이', '부분을_', '부모님을_', '부딪혔나봐요', '부담스러워_', '부담스러울', '부담되', '봤나', '봐주세요', '봐주', '봉사활동_', '봉사', '볼때', '본받', '복잡했', '복잡해', '보험처리_', '보험_', '보자고_', '보일러가_', '보일러', '보일_', '보인', '보였', '보신_', '보시', '보셨나', '보름달', '보란', '보듬어', '보답을_', '보다보면_', '보니까_', '보는데_', '보냈습니다', '보냈네', '보낼', '보내주', '보내시길_', '보내세', '보기만_', '보기로_', '보고싶어_', '보_', '병이', '병원가세요', '병신', '별이', '별로인', '변화시켜', '변화도_', '변해요', '변신', '벼', '베프', '베풀고_', '베트남', '베터리_', '벗어나는_', '벗어나', '법을_', '벌어', '번이', '벅찰텐대요', '버티고_', '버스가_', '버리겠', '버릇', '버려야겠', '버는_', '뱃살', '백업', '배정_', '배울까', '배울_', '배신', '배려하', '배가_', '방향', '방학_', '방에_', '방심', '방법도_', '방금', '밥을_', '밝', '발전하', '발전이_', '발을_', '발렌타인데이_', '발렌타인', '발견', '받으시', '받아줄', '받아들여야_', '받아들여야', '받네', '받기_', '반한_', '반복하', '반복되', '반가워요', '박하', '바지_', '바지', '바쁠', '바쁜일이_', '바쁘네', '바람이라도_', '바람난', '바라보', '바라는', '바늘_', '바꿨어', '바구니', '밉', '밀어보세요', '밀어', '밀려', '믿지_', '믿음', '믿고_', '미화되기', '미워하지_', '미워하', '미용실', '미안하다', '미루', '미련을_', '미래를_', '뭘해', '뭘로_', '뭐해', '뭐하면_', '뭐하는_', '뭐하는', '뭐하나', '뭐지', '뭐로_', '물질', '물이', '물어봐도_', '물어보고_', '묻어두', '문제죠', '문제인', '문제네요', '문이_', '무한리필', '무조건_', '무엇인', '무엇', '무언가', '무섭나요', '무모', '무리하지', '무뎌질', '무덤덤해', '무덤덤', '무너져요', '못할', '못참고_', '못잊는', '몸에는_', '몸무게_', '몰려', '몫', '목표네요', '목소리_', '목소리', '모아야할_', '모아_', '모습도_', '모를_', '모른척하', '모르니', '모르겠다', '모두에게_', '명한_', '명품_', '명상을_', '면접', '면역이_', '면도기', '멘', '메모하는_', '메모', '메뉴얼', '멋져', '멈춰', '멈추지_', '멈추세요', '멈추', '멈', '멀어지면_', '멀어', '먹은_', '먹으니', '먹었더니_', '먹어야_', '먹어도_', '먹먹', '먹는데_', '먹거나_', '머릿속에', '머릿속', '맺', '맴', '맨_', '매력있', '매력을_', '맡기세요', '맞추', '맞으면_', '맞나봐', '망함', '망설여', '망가뜨리기_', '맛집', '맛있을_', '맛있어', '맛있다', '맛없', '맘처럼_', '맘같지_', '맘같', '말했', '말해서_', '말하지', '말았', '말씀드려보세요', '말보다', '말만', '말들', '많지_', '많을', '많은걸_', '많은가_', '많으시', '많았나봅니다', '많겠지', '만화같은_', '만지지_', '만족해', '만족하', '만들었어요', '만들어주', '만났든_', '만났던_', '만났는데', '만남이네요', '만남은_', '만난다면_', '만나지', '만나자는', '만나야', '만나고', '만나_', '막힌다', '막히는_', '막히', '막말_', '막막', '마중_', '마주치면', '마음이랑_', '마음이네', '마음에서_', '마시지', '마셨는데_', '마셨', '마른_', '릿', '립니다', '린다', '리면_', '리러_', '리드', '리고', '른_', '롱디', '로워', '로봇이에요', '로맨틱', '렵니다', '려도', '려니', '려나봐요', '레시피', '렇게', '렀어', '럽게_', '런지', '런_', '랬다_', '램', '랜선_', '랑은_', '랐나봐', '랐', '라는게_', '띄는_', '뜻하', '뜨는', '뜨겁', '뛰어넘', '뚫', '똥차', '똑똑', '똑같애', '또한_', '떼', '떨어지는_', '떨어져_', '떨어뜨려', '떨면', '떨린다', '떨고_', '떠올', '떠오', '떠날', '떠나보', '떠나갔', '떠나간', '땐', '때죠', '때인', '때요', '때부터_', '때문', '때마다_', '때로는_', '땀을_', '딸기', '딸', '따져', '따라가', '따뜻해졌죠', '따듯한_', '딩_', '딛', '딘', '디오', '듯해', '듯이_', '듭니다', '들이대', '들었나봐요', '들었겠네요', '들어오', '들어가서_', '들리려고_', '들려주세요', '듣는_', '듣고', '든든하', '든다', '득', '드릴', '드라이브_', '뒹굴', '뒷감당', '뒤에_', '뒤숭숭하', '뒤_', '둘이', '두푼_', '두통', '두려운', '두려', '두근거림을_', '두근거려', '될거', '된다면_', '되짚어보세요', '되었을_', '되었길_', '되어요', '되시길', '되려면', '되려고_', '되니', '되는건', '되는거_', '되네요', '되겠죠', '되겠어', '동영상_', '동안의_', '동감입니다', '돌아와', '돌아오지', '돌아서', '돌면_', '돌리는_', '돌리', '독이_', '독서', '도전해', '도전은_', '도와줄', '도와드릴', '도와달라고_', '도망가', '도가_', '데이인데', '데서', '데려다주', '데려다', '데려가세요', '데도_', '데가_', '덥', '덤덤해', '덜하', '덜어보세요', '던가', '더워서_', '댓', '대화하는_', '대화의_', '대피방법을_', '대충', '대청소', '대수', '대상', '대단하시군요', '대단하네요', '대는_', '대기업', '당황하', '당한_', '당하는_', '당첨', '당연', '당신만이_', '당분간은_', '당당해', '답하', '답정녀_', '답장_', '답을_', '답답해서', '답답할_', '답답할', '답_', '닮은_', '닮아', '달에는_', '달력', '달라진_', '달라지지_', '달라지', '달라져요', '달라요', '달라는', '달달', '단호하게_', '단체생활_', '단점을_', '단수', '단맛도_', '단_', '다행이네요', '다행', '다하세요', '다칠', '다치', '다워', '다보', '다리가_', '다릅니다', '다른걸_', '다르지_', '다르게_', '다듬', '다되어가', '다닐_', '다닐', '다니면서_', '다는데_', '다는게_', '다녀왔어', '다녀도_', '다갔', '다가가세요', '니까', '늦었어요', '능력', '늙어가', '늙', '늘_', '는대로', '는가', '느낀다', '느끼는', '뉴스', '눈썹_', '눈높이가_', '누락', '누나', '누굴_', '누군가', '누구야', '놨', '놔둬야하는데_', '놓쳤', '놓아줄', '높이', '높겠네요', '농구', '놀이공원_', '놀러가세요', '놀랐나봐요', '놀랐겠어요', '녹여', '노후_', '노려_', '노래는_', '노래가_', '년이', '넣을_', '넣어', '넣', '넘은', '넘었', '넘어가네', '넓으신가봐요', '너의_', '너와', '너무너무_', '너무나도_', '너가_', '냉장고', '냉면', '냄새나', '내일이_', '내일을_', '내서_', '내면', '내길', '내기_', '낳을뿐이에요', '낮잠', '낭비', '낭만적인_', '낭만이', '낫네', '납', '남자입니다', '남자의', '남자에게', '남이에요', '남이니_', '남은', '남았네요', '남사친이', '남들_', '남길_', '남기_', '남과_', '남겨서_', '날짜', '날이에', '날이네요', '날들', '낚시_', '나타났', '나이테', '나이에_', '나왔네', '나올거_', '나오네', '나에게', '나야', '나쁜거예요', '나마_', '나니_', '나눠보는게_', '나눠', '나나_', '나겠네요', '나갈까', '나갈거예요', '나가면_', '나가는_', '끼_', '끝인가봐', '끝인_', '끝이네', '끝의_', '끝낼_', '끝났습니다', '끔', '끊으', '끊었', '끊겼어', '끊겼', '끈을', '끄러워', '끄는_', '꿨는', '꿨', '꿔', '꾹꾹', '꾸준한', '꾸미', '꽉', '꽃길만_', '꼼수를_', '꼰대', '꼬박꼬박_', '꼬리', '껏_', '껄', '꺼야', '깨지', '깨달았', '깨닫다니_', '깝', '깔끔해질_', '깎아야', '길지_', '길면_', '기프트콘_', '기침', '기준이_', '기준', '기원', '기에', '기억해주', '기억은_', '기억에_', '기술이_', '기분전환', '기본이죠', '기본이_', '기본으로_', '기만해도_', '기르고_', '기로_', '기대했', '기다릴게요', '기다리세요', '기다리던_', '기다려도_', '금수저로_', '글자', '글쎄요', '근한', '근처로_', '근무', '근데', '극복해보세요', '그에', '그사람이', '그만하', '그만둬', '그린라이트', '그리운가', '그리운', '그렇겠죠', '그런지', '그러니', '그땐_', '그녀도_', '그것만', '그것도_', '그걸_', '귀찮다', '귀여울_', '귀여', '귀로_', '궁금한', '굳', '구하세요', '구워', '구별', '구멍이_', '구멍', '구두', '구는', '교양수업', '교양_', '괜찮을거_', '괜찮았', '괜찮아지고_', '괜찮다가', '괜찮길_', '괜찮겠지', '관심사에_', '관문', '관계의_', '과연_', '과식하지_', '공유', '공시생', '공부해야지', '공부해야', '공부할_', '공부할', '공부하세요', '공부하면_', '곳이죠', '곳까지_', '골프', '고치기', '고치고_', '고쳐_', '고장_', '고장', '고있는', '고의', '고양이_', '고싶은데', '고싶네', '고시원', '고백해야', '고백하세요', '고백하는게_', '고백이', '고민해', '고민하느라_', '고민하', '고민이죠', '고마움을_', '고독', '계획_', '계기가_', '경우_', '겹', '결혼하기', '결혼하고_', '결혼준비', '결혼을_', '결정했나봐요', '결정하는', '결정이었을거라_', '결심이', '결국엔_', '결과가_', '결과', '견뎌내고_', '겪', '격', '겨울에', '겨울_', '겨울', '겠습니다', '겠대', '겠네', '게해', '것인가', '것이죠', '것에', '겁이', '겁나', '걸음을_', '걸어_', '걸릴', '걸린_', '걷다', '걷길_', '걷고_', '건들지_', '건강하게_', '건강을_', '건강습관이', '걱정하지마세요', '걱정이야', '걱정이', '걱정되겠어요', '걱정되', '거짓말을_', '거짓말은_', '거운_', '거리가_', '거래', '거라면_', '거나', '걔는_', '갠톡', '객관적', '개인적', '개시해보세요', '같을', '갖게_', '강제', '강요', '갔는지_', '갔네', '값이', '갑작스러운_', '갑작스러', '감출', '감정들', '감정기복', '감으세요', '감성적이', '감사하는_', '감동', '감각이_', '갈수록_', '간직하세요', '간절히_', '간절하겠네요', '간사하죠', '간만에_', '간다고_', '각질제거', '가족한테_', '가족들이랑_', '가족들', '가운', '가사', '가볍게_', '가벼워', '가리세요', '가를_', '가려고', '가려_', '가능한가', '가능하죠', '가능하면_', '가능하다고_', '가능성', '가네요', '가네', '가나봐', '가끔씩_', '가기로_', '가기', '가고싶', '가거', 'as_', 'B형_', 'AS센터에_', '9일', '5일째', '3초', '3년이', '3개월이', '30분_', '2주_', '2년간', '2개월', '1년만', '12', '10년_', '10개월', ' ?  ?  ', ' .   .', ' ,  ,', '  !']\n"
          ]
        }
      ]
    },
    {
      "cell_type": "code",
      "source": [
        "tokenizer.vocab_size"
      ],
      "metadata": {
        "colab": {
          "base_uri": "https://localhost:8080/"
        },
        "id": "2jcqaZECFJHT",
        "outputId": "ce8e8fb1-0305-422d-de3d-780075de4555"
      },
      "execution_count": 51,
      "outputs": [
        {
          "output_type": "execute_result",
          "data": {
            "text/plain": [
              "8178"
            ]
          },
          "metadata": {},
          "execution_count": 51
        }
      ]
    },
    {
      "cell_type": "code",
      "source": [
        "print(START_TOKEN)\n",
        "print(END_TOKEN)\n",
        "print(VOCAB_SIZE)"
      ],
      "metadata": {
        "colab": {
          "base_uri": "https://localhost:8080/"
        },
        "id": "NGeXkDcAFqLE",
        "outputId": "e92daf4b-2514-407f-a646-734be9653ea2"
      },
      "execution_count": 52,
      "outputs": [
        {
          "output_type": "stream",
          "name": "stdout",
          "text": [
            "[8178]\n",
            "[8179]\n",
            "8180\n"
          ]
        }
      ]
    },
    {
      "cell_type": "markdown",
      "source": [
        "### 각 단어를 정수로 변환"
      ],
      "metadata": {
        "id": "0bzcYC7kAkaP"
      }
    },
    {
      "cell_type": "code",
      "source": [
        "# 문장의 최대 토큰 길이\n",
        "MAX_LENGTH = 40\n",
        "\n",
        "def tokenize(inputs, outputs):\n",
        "  tokenized_inputs, tokenized_outputs = [], []  # 토큰화 결과\n",
        "\n",
        "  # 모든 입력 문장과 출력 문장에 대해 각 문장을 토큰화하고 정수 인코딩. 모든 문장에는 시작 토큰과 종료 토큰 추가\n",
        "  for (sentence1, sentence2) in zip(inputs, outputs):\n",
        "    sentence1 = START_TOKEN + tokenizer.encode(sentence1) + END_TOKEN\n",
        "    sentence2 = START_TOKEN + tokenizer.encode(sentence2) + END_TOKEN\n",
        "\n",
        "    # 토큰화 결과 추가\n",
        "    tokenized_inputs.append(sentence1)\n",
        "    tokenized_outputs.append(sentence2)\n",
        "\n",
        "  # 문장의 끝에 패딩 적용\n",
        "  tokenized_inputs = tf.keras.preprocessing.sequence.pad_sequences(\n",
        "      tokenized_inputs, maxlen=MAX_LENGTH, padding='post')\n",
        "  tokenized_outputs = tf.keras.preprocessing.sequence.pad_sequences(\n",
        "      tokenized_outputs, maxlen=MAX_LENGTH, padding='post')\n",
        "\n",
        "  return tokenized_inputs, tokenized_outputs"
      ],
      "metadata": {
        "id": "OeMwvk3cceLV"
      },
      "execution_count": 53,
      "outputs": []
    },
    {
      "cell_type": "code",
      "source": [
        "questions, answers = tokenize(questions, answers)"
      ],
      "metadata": {
        "id": "CGwtJ0iBt6j2"
      },
      "execution_count": 54,
      "outputs": []
    },
    {
      "cell_type": "code",
      "source": [
        "print(questions[:3])\n",
        "print(answers[:3])"
      ],
      "metadata": {
        "colab": {
          "base_uri": "https://localhost:8080/"
        },
        "id": "G8zUbAAKOegy",
        "outputId": "c3745743-9941-4291-90b3-15ebddd328da"
      },
      "execution_count": 55,
      "outputs": [
        {
          "output_type": "stream",
          "name": "stdout",
          "text": [
            "[[8178 7915 4207 3060   41 8179    0    0    0    0    0    0    0    0\n",
            "     0    0    0    0    0    0    0    0    0    0    0    0    0    0\n",
            "     0    0    0    0    0    0    0    0    0    0    0    0]\n",
            " [8178 7971   47  919 7954  998 1716 8179    0    0    0    0    0    0\n",
            "     0    0    0    0    0    0    0    0    0    0    0    0    0    0\n",
            "     0    0    0    0    0    0    0    0    0    0    0    0]\n",
            " [8178 7973 1435 4653 7954 3652   67 8179    0    0    0    0    0    0\n",
            "     0    0    0    0    0    0    0    0    0    0    0    0    0    0\n",
            "     0    0    0    0    0    0    0    0    0    0    0    0]]\n",
            "[[8178 3844   74 7894    1 8179    0    0    0    0    0    0    0    0\n",
            "     0    0    0    0    0    0    0    0    0    0    0    0    0    0\n",
            "     0    0    0    0    0    0    0    0    0    0    0    0]\n",
            " [8178 1830 5502    1 8179    0    0    0    0    0    0    0    0    0\n",
            "     0    0    0    0    0    0    0    0    0    0    0    0    0    0\n",
            "     0    0    0    0    0    0    0    0    0    0    0    0]\n",
            " [8178 3400  777  131    1 8179    0    0    0    0    0    0    0    0\n",
            "     0    0    0    0    0    0    0    0    0    0    0    0    0    0\n",
            "     0    0    0    0    0    0    0    0    0    0    0    0]]\n"
          ]
        }
      ]
    },
    {
      "cell_type": "code",
      "source": [
        "BATCH_SIZE = 64\n",
        "\n",
        "# tf.data.Dataset API를 이용하여 파이프라인을 구축\n",
        "dataset = tf.data.Dataset.from_tensor_slices((\n",
        "    {\n",
        "        'inputs': questions,  # 인코더의 입력\n",
        "        'dec_inputs': answers[:, :-1]  # 디코더의 입력은 종료 토큰을 제외\n",
        "    },\n",
        "    {\n",
        "        'outputs': answers[:, 1:]  # 디코더의 실제 값은 시작 토큰을 제외\n",
        "    },\n",
        "))\n",
        "\n",
        "# 데이터셋을 배치 단위로 나눔\n",
        "dataset = dataset.batch(BATCH_SIZE)"
      ],
      "metadata": {
        "id": "ID1RceE6uCi_"
      },
      "execution_count": 56,
      "outputs": []
    },
    {
      "cell_type": "markdown",
      "source": [
        "### 배치 테스트: 첫 번째 배치의 첫 문장이 잘 출력되는지 확인하기"
      ],
      "metadata": {
        "id": "q-fzVSZ7ybiy"
      }
    },
    {
      "cell_type": "code",
      "source": [
        "for batch in dataset.take(1):\n",
        "    inputs, targets = batch\n",
        "    print(\"[인코더의 입력]\\n\", inputs['inputs'][0])\n",
        "    print(\"\\n[디코더의 입력]\\n\", inputs['dec_inputs'][0])\n",
        "    print(\"\\n[디코더의 실제 값]\\n\", targets['outputs'][0])"
      ],
      "metadata": {
        "colab": {
          "base_uri": "https://localhost:8080/"
        },
        "id": "nbDjNDzlxxLa",
        "outputId": "67ae185b-5d16-4482-f1c3-15a8bd64bafc"
      },
      "execution_count": 57,
      "outputs": [
        {
          "output_type": "stream",
          "name": "stdout",
          "text": [
            "[인코더의 입력]\n",
            " tf.Tensor(\n",
            "[8178 7915 4207 3060   41 8179    0    0    0    0    0    0    0    0\n",
            "    0    0    0    0    0    0    0    0    0    0    0    0    0    0\n",
            "    0    0    0    0    0    0    0    0    0    0    0    0], shape=(40,), dtype=int32)\n",
            "\n",
            "[디코더의 입력]\n",
            " tf.Tensor(\n",
            "[8178 3844   74 7894    1 8179    0    0    0    0    0    0    0    0\n",
            "    0    0    0    0    0    0    0    0    0    0    0    0    0    0\n",
            "    0    0    0    0    0    0    0    0    0    0    0], shape=(39,), dtype=int32)\n",
            "\n",
            "[디코더의 실제 값]\n",
            " tf.Tensor(\n",
            "[3844   74 7894    1 8179    0    0    0    0    0    0    0    0    0\n",
            "    0    0    0    0    0    0    0    0    0    0    0    0    0    0\n",
            "    0    0    0    0    0    0    0    0    0    0    0], shape=(39,), dtype=int32)\n"
          ]
        }
      ]
    },
    {
      "cell_type": "markdown",
      "source": [
        "## 학습률 정의"
      ],
      "metadata": {
        "id": "kTlDG6-Q4qnt"
      }
    },
    {
      "cell_type": "code",
      "source": [
        "class CustomSchedule(tf.keras.optimizers.schedules.LearningRateSchedule):\n",
        "\n",
        "  def __init__(self, d_model, warmup_steps=4000):\n",
        "    super(CustomSchedule, self).__init__()\n",
        "    self.d_model = d_model\n",
        "    self.d_model = tf.cast(self.d_model, tf.float32)\n",
        "    self.warmup_steps = warmup_steps\n",
        "\n",
        "  def __call__(self, step):\n",
        "    step = tf.cast(step, tf.float32)\n",
        "    arg1 = tf.math.rsqrt(step)\n",
        "    arg2 = step * (self.warmup_steps**-1.5)\n",
        "\n",
        "    return tf.math.rsqrt(self.d_model) * tf.math.minimum(arg1, arg2)"
      ],
      "metadata": {
        "id": "kdXlZVyi41CX"
      },
      "execution_count": 58,
      "outputs": []
    },
    {
      "cell_type": "markdown",
      "source": [
        "학습률 정의"
      ],
      "metadata": {
        "id": "6ZDrW0POWt0C"
      }
    },
    {
      "cell_type": "code",
      "source": [
        "sample_learning_rate = CustomSchedule(d_model=128)\n",
        "\n",
        "plt.plot(sample_learning_rate(tf.range(200000, dtype=tf.float32)))\n",
        "plt.ylabel(\"Learning Rate\")\n",
        "plt.xlabel(\"Train Step\")"
      ],
      "metadata": {
        "colab": {
          "base_uri": "https://localhost:8080/",
          "height": 467
        },
        "id": "AbSXulWg5DkO",
        "outputId": "2f4ce4b4-bab6-438f-c0f8-090b48a24d0a"
      },
      "execution_count": 59,
      "outputs": [
        {
          "output_type": "execute_result",
          "data": {
            "text/plain": [
              "Text(0.5, 0, 'Train Step')"
            ]
          },
          "metadata": {},
          "execution_count": 59
        },
        {
          "output_type": "display_data",
          "data": {
            "text/plain": [
              "<Figure size 640x480 with 1 Axes>"
            ],
            "image/png": "[encoded data removed]"
          },
          "metadata": {}
        }
      ]
    },
    {
      "cell_type": "markdown",
      "source": [
        "CustomSchedule이 잘 작동하는지 테스트"
      ],
      "metadata": {
        "id": "PBdepAhZ7UVC"
      }
    },
    {
      "cell_type": "code",
      "source": [
        "# CustomSchedule 테스트\n",
        "d_model = 128\n",
        "learning_rate = CustomSchedule(d_model)\n",
        "\n",
        "for step in range(1, 10000, 200):\n",
        "  lr = learning_rate(step)\n",
        "  print(f\"Step: {step}, Learning Rate: {lr}\")\n",
        "\n",
        "# 학습률 그래프로 출력\n",
        "steps = range(1, 10000)\n",
        "lrs = [learning_rate(step) for step in steps]\n",
        "\n",
        "plt.plot(steps, lrs)\n",
        "plt.ylabel(\"Learning Rate\")\n",
        "plt.xlabel(\"Train Step\")\n",
        "plt.show()"
      ],
      "metadata": {
        "colab": {
          "base_uri": "https://localhost:8080/",
          "height": 1000
        },
        "id": "-J4fbTke66ml",
        "outputId": "8f75897e-7a45-4d1e-d524-66f339a22a03"
      },
      "execution_count": 60,
      "outputs": [
        {
          "output_type": "stream",
          "name": "stdout",
          "text": [
            "Step: 1, Learning Rate: 3.49385601339236e-07\n",
            "Step: 201, Learning Rate: 7.02265024301596e-05\n",
            "Step: 401, Learning Rate: 0.00014010362792760134\n",
            "Step: 601, Learning Rate: 0.00020998074614908546\n",
            "Step: 801, Learning Rate: 0.0002798578643705696\n",
            "Step: 1001, Learning Rate: 0.0003497349680401385\n",
            "Step: 1201, Learning Rate: 0.00041961210081353784\n",
            "Step: 1401, Learning Rate: 0.0004894892335869372\n",
            "Step: 1601, Learning Rate: 0.0005593663081526756\n",
            "Step: 1801, Learning Rate: 0.000629243440926075\n",
            "Step: 2001, Learning Rate: 0.0006991205736994743\n",
            "Step: 2201, Learning Rate: 0.0007689977646805346\n",
            "Step: 2401, Learning Rate: 0.000838874839246273\n",
            "Step: 2601, Learning Rate: 0.0009087519720196724\n",
            "Step: 2801, Learning Rate: 0.0009786291047930717\n",
            "Step: 3001, Learning Rate: 0.001048506237566471\n",
            "Step: 3201, Learning Rate: 0.0011183832539245486\n",
            "Step: 3401, Learning Rate: 0.0011882605031132698\n",
            "Step: 3601, Learning Rate: 0.0012581375194713473\n",
            "Step: 3801, Learning Rate: 0.0013280146522447467\n",
            "Step: 4001, Learning Rate: 0.0013973675668239594\n",
            "Step: 4201, Learning Rate: 0.0013636993244290352\n",
            "Step: 4401, Learning Rate: 0.0013323528692126274\n",
            "Step: 4601, Learning Rate: 0.0013030733680352569\n",
            "Step: 4801, Learning Rate: 0.0012756428914144635\n",
            "Step: 5001, Learning Rate: 0.0012498748255893588\n",
            "Step: 5201, Learning Rate: 0.0012256079353392124\n",
            "Step: 5401, Learning Rate: 0.0012027015909552574\n",
            "Step: 5601, Learning Rate: 0.0011810333235189319\n",
            "Step: 5801, Learning Rate: 0.0011604956816881895\n",
            "Step: 6001, Learning Rate: 0.001140993437729776\n",
            "Step: 6201, Learning Rate: 0.001122442539781332\n",
            "Step: 6401, Learning Rate: 0.0011047678999602795\n",
            "Step: 6601, Learning Rate: 0.0010879028122872114\n",
            "Step: 6801, Learning Rate: 0.0010717872064560652\n",
            "Step: 7001, Learning Rate: 0.0010563672985881567\n",
            "Step: 7201, Learning Rate: 0.0010415941942483187\n",
            "Step: 7401, Learning Rate: 0.0010274241212755442\n",
            "Step: 7601, Learning Rate: 0.0010138170327991247\n",
            "Step: 7801, Learning Rate: 0.0010007367236539721\n",
            "Step: 8001, Learning Rate: 0.000988149899058044\n",
            "Step: 8201, Learning Rate: 0.000976026349235326\n",
            "Step: 8401, Learning Rate: 0.0009643384255468845\n",
            "Step: 8601, Learning Rate: 0.0009530605748295784\n",
            "Step: 8801, Learning Rate: 0.0009421693393960595\n",
            "Step: 9001, Learning Rate: 0.000931643124204129\n",
            "Step: 9201, Learning Rate: 0.0009214620804414153\n",
            "Step: 9401, Learning Rate: 0.0009116075816564262\n",
            "Step: 9601, Learning Rate: 0.0009020627476274967\n",
            "Step: 9801, Learning Rate: 0.0008928115130402148\n"
          ]
        },
        {
          "output_type": "display_data",
          "data": {
            "text/plain": [
              "<Figure size 640x480 with 1 Axes>"
            ],
            "image/png": "[encoded data removed]"
          },
          "metadata": {}
        }
      ]
    },
    {
      "cell_type": "markdown",
      "source": [
        "## 손실함수 정의"
      ],
      "metadata": {
        "id": "OnY1iddmOCAa"
      }
    },
    {
      "cell_type": "code",
      "source": [
        "def loss_function(y_true, y_pred):\n",
        "  y_true = tf.reshape(y_true, shape=(-1, MAX_LENGTH - 1))  # y_true: (배치 크기, 문장의 최대 길이 - 1)\n",
        "\n",
        "  loss = tf.keras.losses.SparseCategoricalCrossentropy(\n",
        "      from_logits=True, reduction='none')(y_true, y_pred)  # y_pred가 확률분포가 아닌 로짓을 나타냄. 손실을 즉시 최소화하지 않고 나중에 수행함.\n",
        "\n",
        "  mask = tf.cast(tf.not_equal(y_true, 0), tf.float32)  # y_true 값이 0이 아닌 위치에는 1, 0인 위치에는 0인 마스크 생성. 0은 패딩된 위치를 의미한다.\n",
        "  loss = tf.multiply(loss, mask)  # 앞서 계산한 손실에 마스크 적용. 패딩된 위치의 손실은 0으로, 패딩되지 않은 위치의 손실은 그대로 유지한다.\n",
        "\n",
        "  return tf.reduce_mean(loss)  # 모든 위치의 손실의 평균을 반환"
      ],
      "metadata": {
        "id": "CB8lBnugOEKw"
      },
      "execution_count": 61,
      "outputs": []
    },
    {
      "cell_type": "markdown",
      "source": [
        "## 모델 생성"
      ],
      "metadata": {
        "id": "RnFOzOnG0RW6"
      }
    },
    {
      "cell_type": "markdown",
      "source": [
        "하이퍼 파라미터 정의"
      ],
      "metadata": {
        "id": "pfUETrJ_W2JO"
      }
    },
    {
      "cell_type": "code",
      "source": [
        "transformer_model = transformer(\n",
        "    num_layers = 4,  # 인코더와 디코더의 레이어 개수\n",
        "    d_model = 128,  # 임베딩 벡터의 차원\n",
        "    num_heads = 4,  # 멀티 헤드 어텐션 메커니즘의 헤드 수\n",
        "    dff = 512,  # 피드포워드 네트워크 은닉층의 뉴런 수\n",
        "    input_vocab_size = 9000,  # 입력의 단어 집합 크기\n",
        "    target_vocab_size = 9000,  # 출력의 단어 집합 크기\n",
        "    pe_input = 10000,  # 입력 최대 포지셔널 인코딩 값\n",
        "    pe_target = 10000,  # 출력 최대 포지셔널 인코딩 값\n",
        "    rate = 0.3  # 드롭아웃 비율\n",
        ")"
      ],
      "metadata": {
        "id": "AgopytMS0TgK"
      },
      "execution_count": 62,
      "outputs": []
    },
    {
      "cell_type": "markdown",
      "source": [
        "모델 컴파일"
      ],
      "metadata": {
        "id": "Qq6KSn7M4QiL"
      }
    },
    {
      "cell_type": "code",
      "source": [
        "learning_rate = CustomSchedule(d_model)\n",
        "\n",
        "# beta: 이동 평균을 계산할 때 사용되는 가중치 과거 그래디언트 고려 비율\n",
        "# epsilon: 0으로 나누는 것을 방지하기 위해 분모에 추가되는 작은 상수\n",
        "optimizer = tf.keras.optimizers.Adam(\n",
        "    learning_rate, beta_1=0.9, beta_2=0.98, epsilon=1e-9)\n",
        "\n",
        "# 주어진 레이블 y_true와 예측값 y_pred에 대한 정확도를 계산하는 함수\n",
        "def accuracy(y_true, y_pred):\n",
        "  y_true = tf.reshape(y_true, shape=(-1, MAX_LENGTH - 1))\n",
        "  return tf.keras.metrics.sparse_categorical_accuracy(y_true, y_pred)\n",
        "\n",
        "transformer_model.compile(optimizer=optimizer, loss=loss_function, metrics=[accuracy])"
      ],
      "metadata": {
        "id": "u9yd2_A23Qr5"
      },
      "execution_count": 63,
      "outputs": []
    },
    {
      "cell_type": "markdown",
      "source": [
        "모델 훈련"
      ],
      "metadata": {
        "id": "KzGRrM2d4Xi5"
      }
    },
    {
      "cell_type": "code",
      "source": [
        "EPOCHS = 50\n",
        "transformer_model.fit(dataset, epochs=EPOCHS)"
      ],
      "metadata": {
        "colab": {
          "base_uri": "https://localhost:8080/"
        },
        "id": "WmI-Y3ox4ZKA",
        "outputId": "8443a5f3-5500-41c5-84ba-1fcacb4daeab"
      },
      "execution_count": 64,
      "outputs": [
        {
          "output_type": "stream",
          "name": "stdout",
          "text": [
            "Epoch 1/50\n",
            "185/185 [==============================] - 109s 369ms/step - loss: 1.5219 - accuracy: 0.0193\n",
            "Epoch 2/50\n",
            "185/185 [==============================] - 13s 72ms/step - loss: 1.3243 - accuracy: 0.0265\n",
            "Epoch 3/50\n",
            "185/185 [==============================] - 13s 72ms/step - loss: 1.1152 - accuracy: 0.0492\n",
            "Epoch 4/50\n",
            "185/185 [==============================] - 13s 71ms/step - loss: 1.0217 - accuracy: 0.0497\n",
            "Epoch 5/50\n",
            "185/185 [==============================] - 13s 71ms/step - loss: 0.9653 - accuracy: 0.0506\n",
            "Epoch 6/50\n",
            "185/185 [==============================] - 13s 72ms/step - loss: 0.9294 - accuracy: 0.0514\n",
            "Epoch 7/50\n",
            "185/185 [==============================] - 13s 71ms/step - loss: 0.9061 - accuracy: 0.0524\n",
            "Epoch 8/50\n",
            "185/185 [==============================] - 16s 85ms/step - loss: 0.8877 - accuracy: 0.0532\n",
            "Epoch 9/50\n",
            "185/185 [==============================] - 13s 73ms/step - loss: 0.8702 - accuracy: 0.0539\n",
            "Epoch 10/50\n",
            "185/185 [==============================] - 13s 72ms/step - loss: 0.8538 - accuracy: 0.0546\n",
            "Epoch 11/50\n",
            "185/185 [==============================] - 13s 72ms/step - loss: 0.8420 - accuracy: 0.0553\n",
            "Epoch 12/50\n",
            "185/185 [==============================] - 13s 72ms/step - loss: 0.8292 - accuracy: 0.0560\n",
            "Epoch 13/50\n",
            "185/185 [==============================] - 13s 72ms/step - loss: 0.8156 - accuracy: 0.0565\n",
            "Epoch 14/50\n",
            "185/185 [==============================] - 14s 76ms/step - loss: 0.8003 - accuracy: 0.0571\n",
            "Epoch 15/50\n",
            "185/185 [==============================] - 13s 72ms/step - loss: 0.7884 - accuracy: 0.0575\n",
            "Epoch 16/50\n",
            "185/185 [==============================] - 13s 72ms/step - loss: 0.7814 - accuracy: 0.0577\n",
            "Epoch 17/50\n",
            "185/185 [==============================] - 13s 70ms/step - loss: 0.7698 - accuracy: 0.0584\n",
            "Epoch 18/50\n",
            "185/185 [==============================] - 13s 71ms/step - loss: 0.7632 - accuracy: 0.0586\n",
            "Epoch 19/50\n",
            "185/185 [==============================] - 13s 70ms/step - loss: 0.7575 - accuracy: 0.0588\n",
            "Epoch 20/50\n",
            "185/185 [==============================] - 13s 71ms/step - loss: 0.7473 - accuracy: 0.0594\n",
            "Epoch 21/50\n",
            "185/185 [==============================] - 13s 71ms/step - loss: 0.7396 - accuracy: 0.0597\n",
            "Epoch 22/50\n",
            "185/185 [==============================] - 13s 72ms/step - loss: 0.7327 - accuracy: 0.0600\n",
            "Epoch 23/50\n",
            "185/185 [==============================] - 14s 77ms/step - loss: 0.7218 - accuracy: 0.0606\n",
            "Epoch 24/50\n",
            "185/185 [==============================] - 14s 73ms/step - loss: 0.7113 - accuracy: 0.0611\n",
            "Epoch 25/50\n",
            "185/185 [==============================] - 13s 72ms/step - loss: 0.7060 - accuracy: 0.0614\n",
            "Epoch 26/50\n",
            "185/185 [==============================] - 13s 72ms/step - loss: 0.6973 - accuracy: 0.0619\n",
            "Epoch 27/50\n",
            "185/185 [==============================] - 14s 75ms/step - loss: 0.6878 - accuracy: 0.0623\n",
            "Epoch 28/50\n",
            "185/185 [==============================] - 13s 73ms/step - loss: 0.6791 - accuracy: 0.0631\n",
            "Epoch 29/50\n",
            "185/185 [==============================] - 13s 72ms/step - loss: 0.6703 - accuracy: 0.0633\n",
            "Epoch 30/50\n",
            "185/185 [==============================] - 13s 72ms/step - loss: 0.6655 - accuracy: 0.0640\n",
            "Epoch 31/50\n",
            "185/185 [==============================] - 14s 75ms/step - loss: 0.6584 - accuracy: 0.0645\n",
            "Epoch 32/50\n",
            "185/185 [==============================] - 14s 73ms/step - loss: 0.6535 - accuracy: 0.0647\n",
            "Epoch 33/50\n",
            "185/185 [==============================] - 13s 72ms/step - loss: 0.6506 - accuracy: 0.0651\n",
            "Epoch 34/50\n",
            "185/185 [==============================] - 13s 72ms/step - loss: 0.6426 - accuracy: 0.0656\n",
            "Epoch 35/50\n",
            "185/185 [==============================] - 13s 72ms/step - loss: 0.6371 - accuracy: 0.0660\n",
            "Epoch 36/50\n",
            "185/185 [==============================] - 13s 72ms/step - loss: 0.6305 - accuracy: 0.0664\n",
            "Epoch 37/50\n",
            "185/185 [==============================] - 13s 72ms/step - loss: 0.6276 - accuracy: 0.0670\n",
            "Epoch 38/50\n",
            "185/185 [==============================] - 13s 72ms/step - loss: 0.6231 - accuracy: 0.0673\n",
            "Epoch 39/50\n",
            "185/185 [==============================] - 13s 72ms/step - loss: 0.6222 - accuracy: 0.0675\n",
            "Epoch 40/50\n",
            "185/185 [==============================] - 13s 73ms/step - loss: 0.6215 - accuracy: 0.0678\n",
            "Epoch 41/50\n",
            "185/185 [==============================] - 14s 75ms/step - loss: 0.6194 - accuracy: 0.0683\n",
            "Epoch 42/50\n",
            "185/185 [==============================] - 14s 74ms/step - loss: 0.6130 - accuracy: 0.0691\n",
            "Epoch 43/50\n",
            "185/185 [==============================] - 13s 73ms/step - loss: 0.6054 - accuracy: 0.0695\n",
            "Epoch 44/50\n",
            "185/185 [==============================] - 13s 72ms/step - loss: 0.5997 - accuracy: 0.0700\n",
            "Epoch 45/50\n",
            "185/185 [==============================] - 14s 74ms/step - loss: 0.5927 - accuracy: 0.0708\n",
            "Epoch 46/50\n",
            "185/185 [==============================] - 21s 113ms/step - loss: 0.5885 - accuracy: 0.0711\n",
            "Epoch 47/50\n",
            "185/185 [==============================] - 13s 73ms/step - loss: 0.5825 - accuracy: 0.0716\n",
            "Epoch 48/50\n",
            "185/185 [==============================] - 16s 86ms/step - loss: 0.5774 - accuracy: 0.0721\n",
            "Epoch 49/50\n",
            "185/185 [==============================] - 21s 112ms/step - loss: 0.5710 - accuracy: 0.0727\n",
            "Epoch 50/50\n",
            "185/185 [==============================] - 13s 70ms/step - loss: 0.5672 - accuracy: 0.0729\n"
          ]
        },
        {
          "output_type": "execute_result",
          "data": {
            "text/plain": [
              "<keras.callbacks.History at 0x7fa6802fbb20>"
            ]
          },
          "metadata": {},
          "execution_count": 64
        }
      ]
    },
    {
      "cell_type": "markdown",
      "source": [
        "입력 전처리"
      ],
      "metadata": {
        "id": "UmRRP3oxc7_9"
      }
    },
    {
      "cell_type": "code",
      "source": [
        "def preprocess_sentence(sentence):\n",
        "  sentence = re.sub(r\"([?.!,])\", r\" \\1 \", sentence)\n",
        "  sentence = sentence.strip()\n",
        "  return sentence"
      ],
      "metadata": {
        "id": "r0S0wxVQ-eDd"
      },
      "execution_count": 65,
      "outputs": []
    },
    {
      "cell_type": "code",
      "source": [
        "def evaluate(sentence):\n",
        "  sentence = preprocess_sentence(sentence)\n",
        "\n",
        "  sentence = tf.expand_dims(\n",
        "      START_TOKEN + tokenizer.encode(sentence) + END_TOKEN, axis=0)\n",
        "\n",
        "  output = tf.expand_dims(START_TOKEN, 0)\n",
        "\n",
        "  # 디코더 예측\n",
        "  for i in range(MAX_LENGTH):\n",
        "    predictions = transformer_model(inputs=[sentence, output], training=False)\n",
        "\n",
        "    predictions = predictions[:, -1:, :]\n",
        "    predicted_id = tf.cast(tf.argmax(predictions, axis=-1), tf.int32)\n",
        "\n",
        "    # 종료 토큰이면 예측 종료\n",
        "    if tf.equal(predicted_id, END_TOKEN[0]):\n",
        "      break\n",
        "\n",
        "    output = tf.concat([output, predicted_id], axis=-1)\n",
        "\n",
        "  return tf.squeeze(output, axis=0)"
      ],
      "metadata": {
        "id": "FR6sv9im942K"
      },
      "execution_count": 66,
      "outputs": []
    },
    {
      "cell_type": "code",
      "source": [
        "def predict(sentence):\n",
        "  prediction = evaluate(sentence)\n",
        "\n",
        "  predicted_sentence = tokenizer.decode(\n",
        "      [i for i in prediction if i < tokenizer.vocab_size])\n",
        "\n",
        "  print('Input: {}'.format(sentence))\n",
        "  print('Output: {}'.format(predicted_sentence))\n",
        "\n",
        "  return predicted_sentence"
      ],
      "metadata": {
        "id": "5cJX2IhY-qQF"
      },
      "execution_count": 67,
      "outputs": []
    },
    {
      "cell_type": "code",
      "source": [
        "output = predict(\"안녕?\")"
      ],
      "metadata": {
        "colab": {
          "base_uri": "https://localhost:8080/"
        },
        "id": "hCXKMeiA-snd",
        "outputId": "1fa3b52d-af05-44b7-9e96-991093a496e1"
      },
      "execution_count": 82,
      "outputs": [
        {
          "output_type": "stream",
          "name": "stdout",
          "text": [
            "Input: 안녕?\n",
            "Output: 다가가는 건 그 사람도 무엇인히 표현하요 .\n"
          ]
        }
      ]
    },
    {
      "cell_type": "code",
      "source": [
        "output = predict(\"영화 볼래?\")"
      ],
      "metadata": {
        "colab": {
          "base_uri": "https://localhost:8080/"
        },
        "id": "KG_9SAnRdcaN",
        "outputId": "5196ea85-45e6-45a9-d2d4-6499a234c439"
      },
      "execution_count": 83,
      "outputs": [
        {
          "output_type": "stream",
          "name": "stdout",
          "text": [
            "Input: 영화 볼래?\n",
            "Output: 무슨 계기가 있었나봐요 .\n"
          ]
        }
      ]
    },
    {
      "cell_type": "code",
      "source": [
        "output = predict(\"축구 할래?\")"
      ],
      "metadata": {
        "colab": {
          "base_uri": "https://localhost:8080/"
        },
        "id": "yFD8ARjpdf2k",
        "outputId": "2a43cfdf-0998-4d32-9808-6315b02466bf"
      },
      "execution_count": 84,
      "outputs": [
        {
          "output_type": "stream",
          "name": "stdout",
          "text": [
            "Input: 축구 할래?\n",
            "Output: 많이 당황했겠어요 .\n"
          ]
        }
      ]
    },
    {
      "cell_type": "code",
      "source": [
        "output = predict(\"너무 더워\")"
      ],
      "metadata": {
        "colab": {
          "base_uri": "https://localhost:8080/"
        },
        "id": "-_ANstycdi6E",
        "outputId": "1a4b8a1c-8e69-4154-b711-3297e36a2f5a"
      },
      "execution_count": 85,
      "outputs": [
        {
          "output_type": "stream",
          "name": "stdout",
          "text": [
            "Input: 너무 더워\n",
            "Output: 짝사랑 앞에 앞에 앞에 앞에 장받고 때문이죠 .\n"
          ]
        }
      ]
    },
    {
      "cell_type": "code",
      "source": [
        "output = predict(\"배고파\")"
      ],
      "metadata": {
        "colab": {
          "base_uri": "https://localhost:8080/"
        },
        "id": "fxO1_etWdmtb",
        "outputId": "363cd334-768b-44ef-a00d-43bc05accdea"
      },
      "execution_count": 86,
      "outputs": [
        {
          "output_type": "stream",
          "name": "stdout",
          "text": [
            "Input: 배고파\n",
            "Output: 짝사랑 문제가 신청 해도 좋겠어요 .\n"
          ]
        }
      ]
    }
  ]
}